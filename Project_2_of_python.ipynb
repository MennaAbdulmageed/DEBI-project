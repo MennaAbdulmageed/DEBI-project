{
  "nbformat": 4,
  "nbformat_minor": 0,
  "metadata": {
    "colab": {
      "provenance": [],
      "toc_visible": true
    },
    "kernelspec": {
      "name": "python3",
      "display_name": "Python 3"
    },
    "language_info": {
      "name": "python"
    }
  },
  "cells": [
    {
      "cell_type": "markdown",
      "source": [
        "##problem1"
      ],
      "metadata": {
        "id": "YajQWtO5XzXq"
      }
    },
    {
      "cell_type": "code",
      "source": [
        "def Add(first,second):\n",
        "  total=first+second\n",
        "  return total\n",
        "def Subtract(first,second):\n",
        "  sub=first-second\n",
        "  return sub\n",
        "def multiply(first,second):\n",
        "  return first*second\n",
        "def dev (first,second) :\n",
        "  return first/second\n",
        "\n",
        "while True:\n",
        "  first = int(input(\"Enter first Number = \"))\n",
        "  second = int(input(\"Enter second Number = \"))\n",
        "  operation = input(\"operation = (+,-,*,/)\")\n",
        "  if operation == '+':\n",
        "    print( Add(first,second))\n",
        "  elif operation == '-':\n",
        "    print(Subtract (first,second))\n",
        "  elif operation == '*':\n",
        "    print(multiply (first,second))\n",
        "  elif operation == '/':\n",
        "    if second == 0:\n",
        "      print('Cannot divide by zero,please try again.')\n",
        "      ques1 = input('Do you want to try again? (y/n)')\n",
        "      if ques1 == 'n':\n",
        "        break\n",
        "    else:\n",
        "      print(dev(first,second))\n",
        "    continue\n",
        "  ques2 = input('Do you want to Quit?(y/n)')\n",
        "  if ques2 == 'y':\n",
        "    print('Thank you')\n",
        "    break\n"
      ],
      "metadata": {
        "colab": {
          "base_uri": "https://localhost:8080/"
        },
        "id": "ROVSD8E3hD6E",
        "outputId": "e620c515-7f13-41a0-dc18-d474b5a863e7"
      },
      "execution_count": null,
      "outputs": [
        {
          "output_type": "stream",
          "name": "stdout",
          "text": [
            "Enter first Number = 10\n",
            "Enter second Number = 0\n",
            "operation = (+,-,*,/)/\n",
            "Cannot divide by zero,please try again.\n",
            "Do you want to try again? (y/n)y\n",
            "Enter first Number = 5\n",
            "Enter second Number = 5\n",
            "operation = (+,-,*,/)+\n",
            "10\n",
            "Do you want to Quit?(y/n)y\n",
            "Thank you\n"
          ]
        }
      ]
    },
    {
      "cell_type": "markdown",
      "source": [
        "##Problem2"
      ],
      "metadata": {
        "id": "VgsyUTdsX2xN"
      }
    },
    {
      "cell_type": "code",
      "execution_count": null,
      "metadata": {
        "id": "kw-t22Dsf6Hd",
        "colab": {
          "base_uri": "https://localhost:8080/"
        },
        "outputId": "7e44694b-f9fb-4f32-cfe0-23ffbf2bc252"
      },
      "outputs": [
        {
          "output_type": "stream",
          "name": "stdout",
          "text": [
            "Enter file path: /content/New Text Document.txt\n",
            "Enter the word you search for: has\n",
            "has appears 1 times(s) in the text at the following locations: [8]\n"
          ]
        }
      ],
      "source": [
        "fileu = input('Enter file path: ')\n",
        "word = input('Enter the word you search for: ')\n",
        "with open(fileu) as fh:\n",
        "    count = 0\n",
        "    vocab = []\n",
        "    locations = []\n",
        "    for i, line in enumerate(fh):\n",
        "       words = line.split()\n",
        "       for j, w in enumerate(words):\n",
        "           if w == word :\n",
        "               locations.append(j)\n",
        "               count += 1\n",
        "\n",
        "print(word ,'appears', count ,'times(s) in the text at the following locations:',locations)"
      ]
    },
    {
      "cell_type": "markdown",
      "source": [
        "#problem3"
      ],
      "metadata": {
        "id": "sCYwuWG-m7G_"
      }
    },
    {
      "cell_type": "code",
      "source": [
        "list_1 = [1.0,0.0,0.0,1.5,0.0,0.5]\n",
        "valid=0\n",
        "invalid = 0\n",
        "def fen(list_1):\n",
        "  for i in range(0,5,3):\n",
        "    valid=0\n",
        "    invalid = 0\n",
        "    if 0 <= i <= 1:\n",
        "      valid +=1\n",
        "      print('valid =',valid)\n",
        "    else:\n",
        "      invalid += 1\n",
        "      print('invalid =',invalid)\n",
        "\n",
        "fen(list_1)"
      ],
      "metadata": {
        "colab": {
          "base_uri": "https://localhost:8080/"
        },
        "id": "eIvtwKrMm9Kn",
        "outputId": "eac9f730-b4fe-4716-c59c-6a97c91e07d5"
      },
      "execution_count": null,
      "outputs": [
        {
          "output_type": "stream",
          "name": "stdout",
          "text": [
            "valid = 1\n",
            "invalid = 1\n"
          ]
        }
      ]
    },
    {
      "cell_type": "markdown",
      "source": [
        "#Problem 4\n",
        "#read data\n"
      ],
      "metadata": {
        "id": "UlbilsXaGZza"
      }
    },
    {
      "cell_type": "code",
      "source": [
        "import pandas as pd\n",
        "df = pd.read_csv('/content/penguins_size.csv')\n",
        "display(df)"
      ],
      "metadata": {
        "id": "4KSiC3Wueg0g",
        "colab": {
          "base_uri": "https://localhost:8080/",
          "height": 423
        },
        "outputId": "eef6f619-7ef2-46f8-d321-c577be660416"
      },
      "execution_count": null,
      "outputs": [
        {
          "output_type": "display_data",
          "data": {
            "text/plain": [
              "    species     island  culmen_length_mm  culmen_depth_mm  flipper_length_mm  \\\n",
              "0    Adelie  Torgersen              39.1             18.7              181.0   \n",
              "1    Adelie  Torgersen              39.5             17.4              186.0   \n",
              "2    Adelie  Torgersen              40.3             18.0              195.0   \n",
              "3    Adelie  Torgersen               NaN              NaN                NaN   \n",
              "4    Adelie  Torgersen              36.7             19.3              193.0   \n",
              "..      ...        ...               ...              ...                ...   \n",
              "339  Gentoo     Biscoe               NaN              NaN                NaN   \n",
              "340  Gentoo     Biscoe              46.8             14.3              215.0   \n",
              "341  Gentoo     Biscoe              50.4             15.7              222.0   \n",
              "342  Gentoo     Biscoe              45.2             14.8              212.0   \n",
              "343  Gentoo     Biscoe              49.9             16.1              213.0   \n",
              "\n",
              "     body_mass_g     sex  \n",
              "0         3750.0    MALE  \n",
              "1         3800.0  FEMALE  \n",
              "2         3250.0  FEMALE  \n",
              "3            NaN     NaN  \n",
              "4         3450.0  FEMALE  \n",
              "..           ...     ...  \n",
              "339          NaN     NaN  \n",
              "340       4850.0  FEMALE  \n",
              "341       5750.0    MALE  \n",
              "342       5200.0  FEMALE  \n",
              "343       5400.0    MALE  \n",
              "\n",
              "[344 rows x 7 columns]"
            ],
            "text/html": [
              "\n",
              "  <div id=\"df-08caf348-ac18-48b2-a900-4c44e10a30a9\">\n",
              "    <div class=\"colab-df-container\">\n",
              "      <div>\n",
              "<style scoped>\n",
              "    .dataframe tbody tr th:only-of-type {\n",
              "        vertical-align: middle;\n",
              "    }\n",
              "\n",
              "    .dataframe tbody tr th {\n",
              "        vertical-align: top;\n",
              "    }\n",
              "\n",
              "    .dataframe thead th {\n",
              "        text-align: right;\n",
              "    }\n",
              "</style>\n",
              "<table border=\"1\" class=\"dataframe\">\n",
              "  <thead>\n",
              "    <tr style=\"text-align: right;\">\n",
              "      <th></th>\n",
              "      <th>species</th>\n",
              "      <th>island</th>\n",
              "      <th>culmen_length_mm</th>\n",
              "      <th>culmen_depth_mm</th>\n",
              "      <th>flipper_length_mm</th>\n",
              "      <th>body_mass_g</th>\n",
              "      <th>sex</th>\n",
              "    </tr>\n",
              "  </thead>\n",
              "  <tbody>\n",
              "    <tr>\n",
              "      <th>0</th>\n",
              "      <td>Adelie</td>\n",
              "      <td>Torgersen</td>\n",
              "      <td>39.1</td>\n",
              "      <td>18.7</td>\n",
              "      <td>181.0</td>\n",
              "      <td>3750.0</td>\n",
              "      <td>MALE</td>\n",
              "    </tr>\n",
              "    <tr>\n",
              "      <th>1</th>\n",
              "      <td>Adelie</td>\n",
              "      <td>Torgersen</td>\n",
              "      <td>39.5</td>\n",
              "      <td>17.4</td>\n",
              "      <td>186.0</td>\n",
              "      <td>3800.0</td>\n",
              "      <td>FEMALE</td>\n",
              "    </tr>\n",
              "    <tr>\n",
              "      <th>2</th>\n",
              "      <td>Adelie</td>\n",
              "      <td>Torgersen</td>\n",
              "      <td>40.3</td>\n",
              "      <td>18.0</td>\n",
              "      <td>195.0</td>\n",
              "      <td>3250.0</td>\n",
              "      <td>FEMALE</td>\n",
              "    </tr>\n",
              "    <tr>\n",
              "      <th>3</th>\n",
              "      <td>Adelie</td>\n",
              "      <td>Torgersen</td>\n",
              "      <td>NaN</td>\n",
              "      <td>NaN</td>\n",
              "      <td>NaN</td>\n",
              "      <td>NaN</td>\n",
              "      <td>NaN</td>\n",
              "    </tr>\n",
              "    <tr>\n",
              "      <th>4</th>\n",
              "      <td>Adelie</td>\n",
              "      <td>Torgersen</td>\n",
              "      <td>36.7</td>\n",
              "      <td>19.3</td>\n",
              "      <td>193.0</td>\n",
              "      <td>3450.0</td>\n",
              "      <td>FEMALE</td>\n",
              "    </tr>\n",
              "    <tr>\n",
              "      <th>...</th>\n",
              "      <td>...</td>\n",
              "      <td>...</td>\n",
              "      <td>...</td>\n",
              "      <td>...</td>\n",
              "      <td>...</td>\n",
              "      <td>...</td>\n",
              "      <td>...</td>\n",
              "    </tr>\n",
              "    <tr>\n",
              "      <th>339</th>\n",
              "      <td>Gentoo</td>\n",
              "      <td>Biscoe</td>\n",
              "      <td>NaN</td>\n",
              "      <td>NaN</td>\n",
              "      <td>NaN</td>\n",
              "      <td>NaN</td>\n",
              "      <td>NaN</td>\n",
              "    </tr>\n",
              "    <tr>\n",
              "      <th>340</th>\n",
              "      <td>Gentoo</td>\n",
              "      <td>Biscoe</td>\n",
              "      <td>46.8</td>\n",
              "      <td>14.3</td>\n",
              "      <td>215.0</td>\n",
              "      <td>4850.0</td>\n",
              "      <td>FEMALE</td>\n",
              "    </tr>\n",
              "    <tr>\n",
              "      <th>341</th>\n",
              "      <td>Gentoo</td>\n",
              "      <td>Biscoe</td>\n",
              "      <td>50.4</td>\n",
              "      <td>15.7</td>\n",
              "      <td>222.0</td>\n",
              "      <td>5750.0</td>\n",
              "      <td>MALE</td>\n",
              "    </tr>\n",
              "    <tr>\n",
              "      <th>342</th>\n",
              "      <td>Gentoo</td>\n",
              "      <td>Biscoe</td>\n",
              "      <td>45.2</td>\n",
              "      <td>14.8</td>\n",
              "      <td>212.0</td>\n",
              "      <td>5200.0</td>\n",
              "      <td>FEMALE</td>\n",
              "    </tr>\n",
              "    <tr>\n",
              "      <th>343</th>\n",
              "      <td>Gentoo</td>\n",
              "      <td>Biscoe</td>\n",
              "      <td>49.9</td>\n",
              "      <td>16.1</td>\n",
              "      <td>213.0</td>\n",
              "      <td>5400.0</td>\n",
              "      <td>MALE</td>\n",
              "    </tr>\n",
              "  </tbody>\n",
              "</table>\n",
              "<p>344 rows × 7 columns</p>\n",
              "</div>\n",
              "      <button class=\"colab-df-convert\" onclick=\"convertToInteractive('df-08caf348-ac18-48b2-a900-4c44e10a30a9')\"\n",
              "              title=\"Convert this dataframe to an interactive table.\"\n",
              "              style=\"display:none;\">\n",
              "        \n",
              "  <svg xmlns=\"http://www.w3.org/2000/svg\" height=\"24px\"viewBox=\"0 0 24 24\"\n",
              "       width=\"24px\">\n",
              "    <path d=\"M0 0h24v24H0V0z\" fill=\"none\"/>\n",
              "    <path d=\"M18.56 5.44l.94 2.06.94-2.06 2.06-.94-2.06-.94-.94-2.06-.94 2.06-2.06.94zm-11 1L8.5 8.5l.94-2.06 2.06-.94-2.06-.94L8.5 2.5l-.94 2.06-2.06.94zm10 10l.94 2.06.94-2.06 2.06-.94-2.06-.94-.94-2.06-.94 2.06-2.06.94z\"/><path d=\"M17.41 7.96l-1.37-1.37c-.4-.4-.92-.59-1.43-.59-.52 0-1.04.2-1.43.59L10.3 9.45l-7.72 7.72c-.78.78-.78 2.05 0 2.83L4 21.41c.39.39.9.59 1.41.59.51 0 1.02-.2 1.41-.59l7.78-7.78 2.81-2.81c.8-.78.8-2.07 0-2.86zM5.41 20L4 18.59l7.72-7.72 1.47 1.35L5.41 20z\"/>\n",
              "  </svg>\n",
              "      </button>\n",
              "      \n",
              "  <style>\n",
              "    .colab-df-container {\n",
              "      display:flex;\n",
              "      flex-wrap:wrap;\n",
              "      gap: 12px;\n",
              "    }\n",
              "\n",
              "    .colab-df-convert {\n",
              "      background-color: #E8F0FE;\n",
              "      border: none;\n",
              "      border-radius: 50%;\n",
              "      cursor: pointer;\n",
              "      display: none;\n",
              "      fill: #1967D2;\n",
              "      height: 32px;\n",
              "      padding: 0 0 0 0;\n",
              "      width: 32px;\n",
              "    }\n",
              "\n",
              "    .colab-df-convert:hover {\n",
              "      background-color: #E2EBFA;\n",
              "      box-shadow: 0px 1px 2px rgba(60, 64, 67, 0.3), 0px 1px 3px 1px rgba(60, 64, 67, 0.15);\n",
              "      fill: #174EA6;\n",
              "    }\n",
              "\n",
              "    [theme=dark] .colab-df-convert {\n",
              "      background-color: #3B4455;\n",
              "      fill: #D2E3FC;\n",
              "    }\n",
              "\n",
              "    [theme=dark] .colab-df-convert:hover {\n",
              "      background-color: #434B5C;\n",
              "      box-shadow: 0px 1px 3px 1px rgba(0, 0, 0, 0.15);\n",
              "      filter: drop-shadow(0px 1px 2px rgba(0, 0, 0, 0.3));\n",
              "      fill: #FFFFFF;\n",
              "    }\n",
              "  </style>\n",
              "\n",
              "      <script>\n",
              "        const buttonEl =\n",
              "          document.querySelector('#df-08caf348-ac18-48b2-a900-4c44e10a30a9 button.colab-df-convert');\n",
              "        buttonEl.style.display =\n",
              "          google.colab.kernel.accessAllowed ? 'block' : 'none';\n",
              "\n",
              "        async function convertToInteractive(key) {\n",
              "          const element = document.querySelector('#df-08caf348-ac18-48b2-a900-4c44e10a30a9');\n",
              "          const dataTable =\n",
              "            await google.colab.kernel.invokeFunction('convertToInteractive',\n",
              "                                                     [key], {});\n",
              "          if (!dataTable) return;\n",
              "\n",
              "          const docLinkHtml = 'Like what you see? Visit the ' +\n",
              "            '<a target=\"_blank\" href=https://colab.research.google.com/notebooks/data_table.ipynb>data table notebook</a>'\n",
              "            + ' to learn more about interactive tables.';\n",
              "          element.innerHTML = '';\n",
              "          dataTable['output_type'] = 'display_data';\n",
              "          await google.colab.output.renderOutput(dataTable, element);\n",
              "          const docLink = document.createElement('div');\n",
              "          docLink.innerHTML = docLinkHtml;\n",
              "          element.appendChild(docLink);\n",
              "        }\n",
              "      </script>\n",
              "    </div>\n",
              "  </div>\n",
              "  "
            ]
          },
          "metadata": {}
        }
      ]
    },
    {
      "cell_type": "markdown",
      "source": [
        "#print the head and the tail of data"
      ],
      "metadata": {
        "id": "0HNyTTLhHCTb"
      }
    },
    {
      "cell_type": "code",
      "source": [
        "df.head()"
      ],
      "metadata": {
        "colab": {
          "base_uri": "https://localhost:8080/",
          "height": 206
        },
        "id": "wRvqGnapHAeS",
        "outputId": "d9c8f6ff-e4e3-4ec5-c5e6-fc97e1149fbe"
      },
      "execution_count": null,
      "outputs": [
        {
          "output_type": "execute_result",
          "data": {
            "text/plain": [
              "  species     island  culmen_length_mm  culmen_depth_mm  flipper_length_mm  \\\n",
              "0  Adelie  Torgersen              39.1             18.7              181.0   \n",
              "1  Adelie  Torgersen              39.5             17.4              186.0   \n",
              "2  Adelie  Torgersen              40.3             18.0              195.0   \n",
              "3  Adelie  Torgersen               NaN              NaN                NaN   \n",
              "4  Adelie  Torgersen              36.7             19.3              193.0   \n",
              "\n",
              "   body_mass_g     sex  \n",
              "0       3750.0    MALE  \n",
              "1       3800.0  FEMALE  \n",
              "2       3250.0  FEMALE  \n",
              "3          NaN     NaN  \n",
              "4       3450.0  FEMALE  "
            ],
            "text/html": [
              "\n",
              "  <div id=\"df-2f0df7f9-382e-4bdd-b3fc-49fe812b785f\">\n",
              "    <div class=\"colab-df-container\">\n",
              "      <div>\n",
              "<style scoped>\n",
              "    .dataframe tbody tr th:only-of-type {\n",
              "        vertical-align: middle;\n",
              "    }\n",
              "\n",
              "    .dataframe tbody tr th {\n",
              "        vertical-align: top;\n",
              "    }\n",
              "\n",
              "    .dataframe thead th {\n",
              "        text-align: right;\n",
              "    }\n",
              "</style>\n",
              "<table border=\"1\" class=\"dataframe\">\n",
              "  <thead>\n",
              "    <tr style=\"text-align: right;\">\n",
              "      <th></th>\n",
              "      <th>species</th>\n",
              "      <th>island</th>\n",
              "      <th>culmen_length_mm</th>\n",
              "      <th>culmen_depth_mm</th>\n",
              "      <th>flipper_length_mm</th>\n",
              "      <th>body_mass_g</th>\n",
              "      <th>sex</th>\n",
              "    </tr>\n",
              "  </thead>\n",
              "  <tbody>\n",
              "    <tr>\n",
              "      <th>0</th>\n",
              "      <td>Adelie</td>\n",
              "      <td>Torgersen</td>\n",
              "      <td>39.1</td>\n",
              "      <td>18.7</td>\n",
              "      <td>181.0</td>\n",
              "      <td>3750.0</td>\n",
              "      <td>MALE</td>\n",
              "    </tr>\n",
              "    <tr>\n",
              "      <th>1</th>\n",
              "      <td>Adelie</td>\n",
              "      <td>Torgersen</td>\n",
              "      <td>39.5</td>\n",
              "      <td>17.4</td>\n",
              "      <td>186.0</td>\n",
              "      <td>3800.0</td>\n",
              "      <td>FEMALE</td>\n",
              "    </tr>\n",
              "    <tr>\n",
              "      <th>2</th>\n",
              "      <td>Adelie</td>\n",
              "      <td>Torgersen</td>\n",
              "      <td>40.3</td>\n",
              "      <td>18.0</td>\n",
              "      <td>195.0</td>\n",
              "      <td>3250.0</td>\n",
              "      <td>FEMALE</td>\n",
              "    </tr>\n",
              "    <tr>\n",
              "      <th>3</th>\n",
              "      <td>Adelie</td>\n",
              "      <td>Torgersen</td>\n",
              "      <td>NaN</td>\n",
              "      <td>NaN</td>\n",
              "      <td>NaN</td>\n",
              "      <td>NaN</td>\n",
              "      <td>NaN</td>\n",
              "    </tr>\n",
              "    <tr>\n",
              "      <th>4</th>\n",
              "      <td>Adelie</td>\n",
              "      <td>Torgersen</td>\n",
              "      <td>36.7</td>\n",
              "      <td>19.3</td>\n",
              "      <td>193.0</td>\n",
              "      <td>3450.0</td>\n",
              "      <td>FEMALE</td>\n",
              "    </tr>\n",
              "  </tbody>\n",
              "</table>\n",
              "</div>\n",
              "      <button class=\"colab-df-convert\" onclick=\"convertToInteractive('df-2f0df7f9-382e-4bdd-b3fc-49fe812b785f')\"\n",
              "              title=\"Convert this dataframe to an interactive table.\"\n",
              "              style=\"display:none;\">\n",
              "        \n",
              "  <svg xmlns=\"http://www.w3.org/2000/svg\" height=\"24px\"viewBox=\"0 0 24 24\"\n",
              "       width=\"24px\">\n",
              "    <path d=\"M0 0h24v24H0V0z\" fill=\"none\"/>\n",
              "    <path d=\"M18.56 5.44l.94 2.06.94-2.06 2.06-.94-2.06-.94-.94-2.06-.94 2.06-2.06.94zm-11 1L8.5 8.5l.94-2.06 2.06-.94-2.06-.94L8.5 2.5l-.94 2.06-2.06.94zm10 10l.94 2.06.94-2.06 2.06-.94-2.06-.94-.94-2.06-.94 2.06-2.06.94z\"/><path d=\"M17.41 7.96l-1.37-1.37c-.4-.4-.92-.59-1.43-.59-.52 0-1.04.2-1.43.59L10.3 9.45l-7.72 7.72c-.78.78-.78 2.05 0 2.83L4 21.41c.39.39.9.59 1.41.59.51 0 1.02-.2 1.41-.59l7.78-7.78 2.81-2.81c.8-.78.8-2.07 0-2.86zM5.41 20L4 18.59l7.72-7.72 1.47 1.35L5.41 20z\"/>\n",
              "  </svg>\n",
              "      </button>\n",
              "      \n",
              "  <style>\n",
              "    .colab-df-container {\n",
              "      display:flex;\n",
              "      flex-wrap:wrap;\n",
              "      gap: 12px;\n",
              "    }\n",
              "\n",
              "    .colab-df-convert {\n",
              "      background-color: #E8F0FE;\n",
              "      border: none;\n",
              "      border-radius: 50%;\n",
              "      cursor: pointer;\n",
              "      display: none;\n",
              "      fill: #1967D2;\n",
              "      height: 32px;\n",
              "      padding: 0 0 0 0;\n",
              "      width: 32px;\n",
              "    }\n",
              "\n",
              "    .colab-df-convert:hover {\n",
              "      background-color: #E2EBFA;\n",
              "      box-shadow: 0px 1px 2px rgba(60, 64, 67, 0.3), 0px 1px 3px 1px rgba(60, 64, 67, 0.15);\n",
              "      fill: #174EA6;\n",
              "    }\n",
              "\n",
              "    [theme=dark] .colab-df-convert {\n",
              "      background-color: #3B4455;\n",
              "      fill: #D2E3FC;\n",
              "    }\n",
              "\n",
              "    [theme=dark] .colab-df-convert:hover {\n",
              "      background-color: #434B5C;\n",
              "      box-shadow: 0px 1px 3px 1px rgba(0, 0, 0, 0.15);\n",
              "      filter: drop-shadow(0px 1px 2px rgba(0, 0, 0, 0.3));\n",
              "      fill: #FFFFFF;\n",
              "    }\n",
              "  </style>\n",
              "\n",
              "      <script>\n",
              "        const buttonEl =\n",
              "          document.querySelector('#df-2f0df7f9-382e-4bdd-b3fc-49fe812b785f button.colab-df-convert');\n",
              "        buttonEl.style.display =\n",
              "          google.colab.kernel.accessAllowed ? 'block' : 'none';\n",
              "\n",
              "        async function convertToInteractive(key) {\n",
              "          const element = document.querySelector('#df-2f0df7f9-382e-4bdd-b3fc-49fe812b785f');\n",
              "          const dataTable =\n",
              "            await google.colab.kernel.invokeFunction('convertToInteractive',\n",
              "                                                     [key], {});\n",
              "          if (!dataTable) return;\n",
              "\n",
              "          const docLinkHtml = 'Like what you see? Visit the ' +\n",
              "            '<a target=\"_blank\" href=https://colab.research.google.com/notebooks/data_table.ipynb>data table notebook</a>'\n",
              "            + ' to learn more about interactive tables.';\n",
              "          element.innerHTML = '';\n",
              "          dataTable['output_type'] = 'display_data';\n",
              "          await google.colab.output.renderOutput(dataTable, element);\n",
              "          const docLink = document.createElement('div');\n",
              "          docLink.innerHTML = docLinkHtml;\n",
              "          element.appendChild(docLink);\n",
              "        }\n",
              "      </script>\n",
              "    </div>\n",
              "  </div>\n",
              "  "
            ]
          },
          "metadata": {},
          "execution_count": 5
        }
      ]
    },
    {
      "cell_type": "code",
      "source": [
        "df.tail()"
      ],
      "metadata": {
        "colab": {
          "base_uri": "https://localhost:8080/",
          "height": 206
        },
        "id": "Irns9IKTHOPB",
        "outputId": "671bb9c3-39e1-483f-db35-ff7945feefbe"
      },
      "execution_count": null,
      "outputs": [
        {
          "output_type": "execute_result",
          "data": {
            "text/plain": [
              "    species  island  culmen_length_mm  culmen_depth_mm  flipper_length_mm  \\\n",
              "339  Gentoo  Biscoe               NaN              NaN                NaN   \n",
              "340  Gentoo  Biscoe              46.8             14.3              215.0   \n",
              "341  Gentoo  Biscoe              50.4             15.7              222.0   \n",
              "342  Gentoo  Biscoe              45.2             14.8              212.0   \n",
              "343  Gentoo  Biscoe              49.9             16.1              213.0   \n",
              "\n",
              "     body_mass_g     sex  \n",
              "339          NaN     NaN  \n",
              "340       4850.0  FEMALE  \n",
              "341       5750.0    MALE  \n",
              "342       5200.0  FEMALE  \n",
              "343       5400.0    MALE  "
            ],
            "text/html": [
              "\n",
              "  <div id=\"df-f5531b47-ec52-4e0d-ac8e-c8fe72f842b3\">\n",
              "    <div class=\"colab-df-container\">\n",
              "      <div>\n",
              "<style scoped>\n",
              "    .dataframe tbody tr th:only-of-type {\n",
              "        vertical-align: middle;\n",
              "    }\n",
              "\n",
              "    .dataframe tbody tr th {\n",
              "        vertical-align: top;\n",
              "    }\n",
              "\n",
              "    .dataframe thead th {\n",
              "        text-align: right;\n",
              "    }\n",
              "</style>\n",
              "<table border=\"1\" class=\"dataframe\">\n",
              "  <thead>\n",
              "    <tr style=\"text-align: right;\">\n",
              "      <th></th>\n",
              "      <th>species</th>\n",
              "      <th>island</th>\n",
              "      <th>culmen_length_mm</th>\n",
              "      <th>culmen_depth_mm</th>\n",
              "      <th>flipper_length_mm</th>\n",
              "      <th>body_mass_g</th>\n",
              "      <th>sex</th>\n",
              "    </tr>\n",
              "  </thead>\n",
              "  <tbody>\n",
              "    <tr>\n",
              "      <th>339</th>\n",
              "      <td>Gentoo</td>\n",
              "      <td>Biscoe</td>\n",
              "      <td>NaN</td>\n",
              "      <td>NaN</td>\n",
              "      <td>NaN</td>\n",
              "      <td>NaN</td>\n",
              "      <td>NaN</td>\n",
              "    </tr>\n",
              "    <tr>\n",
              "      <th>340</th>\n",
              "      <td>Gentoo</td>\n",
              "      <td>Biscoe</td>\n",
              "      <td>46.8</td>\n",
              "      <td>14.3</td>\n",
              "      <td>215.0</td>\n",
              "      <td>4850.0</td>\n",
              "      <td>FEMALE</td>\n",
              "    </tr>\n",
              "    <tr>\n",
              "      <th>341</th>\n",
              "      <td>Gentoo</td>\n",
              "      <td>Biscoe</td>\n",
              "      <td>50.4</td>\n",
              "      <td>15.7</td>\n",
              "      <td>222.0</td>\n",
              "      <td>5750.0</td>\n",
              "      <td>MALE</td>\n",
              "    </tr>\n",
              "    <tr>\n",
              "      <th>342</th>\n",
              "      <td>Gentoo</td>\n",
              "      <td>Biscoe</td>\n",
              "      <td>45.2</td>\n",
              "      <td>14.8</td>\n",
              "      <td>212.0</td>\n",
              "      <td>5200.0</td>\n",
              "      <td>FEMALE</td>\n",
              "    </tr>\n",
              "    <tr>\n",
              "      <th>343</th>\n",
              "      <td>Gentoo</td>\n",
              "      <td>Biscoe</td>\n",
              "      <td>49.9</td>\n",
              "      <td>16.1</td>\n",
              "      <td>213.0</td>\n",
              "      <td>5400.0</td>\n",
              "      <td>MALE</td>\n",
              "    </tr>\n",
              "  </tbody>\n",
              "</table>\n",
              "</div>\n",
              "      <button class=\"colab-df-convert\" onclick=\"convertToInteractive('df-f5531b47-ec52-4e0d-ac8e-c8fe72f842b3')\"\n",
              "              title=\"Convert this dataframe to an interactive table.\"\n",
              "              style=\"display:none;\">\n",
              "        \n",
              "  <svg xmlns=\"http://www.w3.org/2000/svg\" height=\"24px\"viewBox=\"0 0 24 24\"\n",
              "       width=\"24px\">\n",
              "    <path d=\"M0 0h24v24H0V0z\" fill=\"none\"/>\n",
              "    <path d=\"M18.56 5.44l.94 2.06.94-2.06 2.06-.94-2.06-.94-.94-2.06-.94 2.06-2.06.94zm-11 1L8.5 8.5l.94-2.06 2.06-.94-2.06-.94L8.5 2.5l-.94 2.06-2.06.94zm10 10l.94 2.06.94-2.06 2.06-.94-2.06-.94-.94-2.06-.94 2.06-2.06.94z\"/><path d=\"M17.41 7.96l-1.37-1.37c-.4-.4-.92-.59-1.43-.59-.52 0-1.04.2-1.43.59L10.3 9.45l-7.72 7.72c-.78.78-.78 2.05 0 2.83L4 21.41c.39.39.9.59 1.41.59.51 0 1.02-.2 1.41-.59l7.78-7.78 2.81-2.81c.8-.78.8-2.07 0-2.86zM5.41 20L4 18.59l7.72-7.72 1.47 1.35L5.41 20z\"/>\n",
              "  </svg>\n",
              "      </button>\n",
              "      \n",
              "  <style>\n",
              "    .colab-df-container {\n",
              "      display:flex;\n",
              "      flex-wrap:wrap;\n",
              "      gap: 12px;\n",
              "    }\n",
              "\n",
              "    .colab-df-convert {\n",
              "      background-color: #E8F0FE;\n",
              "      border: none;\n",
              "      border-radius: 50%;\n",
              "      cursor: pointer;\n",
              "      display: none;\n",
              "      fill: #1967D2;\n",
              "      height: 32px;\n",
              "      padding: 0 0 0 0;\n",
              "      width: 32px;\n",
              "    }\n",
              "\n",
              "    .colab-df-convert:hover {\n",
              "      background-color: #E2EBFA;\n",
              "      box-shadow: 0px 1px 2px rgba(60, 64, 67, 0.3), 0px 1px 3px 1px rgba(60, 64, 67, 0.15);\n",
              "      fill: #174EA6;\n",
              "    }\n",
              "\n",
              "    [theme=dark] .colab-df-convert {\n",
              "      background-color: #3B4455;\n",
              "      fill: #D2E3FC;\n",
              "    }\n",
              "\n",
              "    [theme=dark] .colab-df-convert:hover {\n",
              "      background-color: #434B5C;\n",
              "      box-shadow: 0px 1px 3px 1px rgba(0, 0, 0, 0.15);\n",
              "      filter: drop-shadow(0px 1px 2px rgba(0, 0, 0, 0.3));\n",
              "      fill: #FFFFFF;\n",
              "    }\n",
              "  </style>\n",
              "\n",
              "      <script>\n",
              "        const buttonEl =\n",
              "          document.querySelector('#df-f5531b47-ec52-4e0d-ac8e-c8fe72f842b3 button.colab-df-convert');\n",
              "        buttonEl.style.display =\n",
              "          google.colab.kernel.accessAllowed ? 'block' : 'none';\n",
              "\n",
              "        async function convertToInteractive(key) {\n",
              "          const element = document.querySelector('#df-f5531b47-ec52-4e0d-ac8e-c8fe72f842b3');\n",
              "          const dataTable =\n",
              "            await google.colab.kernel.invokeFunction('convertToInteractive',\n",
              "                                                     [key], {});\n",
              "          if (!dataTable) return;\n",
              "\n",
              "          const docLinkHtml = 'Like what you see? Visit the ' +\n",
              "            '<a target=\"_blank\" href=https://colab.research.google.com/notebooks/data_table.ipynb>data table notebook</a>'\n",
              "            + ' to learn more about interactive tables.';\n",
              "          element.innerHTML = '';\n",
              "          dataTable['output_type'] = 'display_data';\n",
              "          await google.colab.output.renderOutput(dataTable, element);\n",
              "          const docLink = document.createElement('div');\n",
              "          docLink.innerHTML = docLinkHtml;\n",
              "          element.appendChild(docLink);\n",
              "        }\n",
              "      </script>\n",
              "    </div>\n",
              "  </div>\n",
              "  "
            ]
          },
          "metadata": {},
          "execution_count": 6
        }
      ]
    },
    {
      "cell_type": "markdown",
      "source": [
        "# 1-Get information about data"
      ],
      "metadata": {
        "id": "O9EtwBf4HXVi"
      }
    },
    {
      "cell_type": "code",
      "source": [
        "df.info()"
      ],
      "metadata": {
        "colab": {
          "base_uri": "https://localhost:8080/"
        },
        "id": "U8BWD03GHUEh",
        "outputId": "131bc7fe-9016-428a-9587-f4d0f6b6f00c"
      },
      "execution_count": null,
      "outputs": [
        {
          "output_type": "stream",
          "name": "stdout",
          "text": [
            "<class 'pandas.core.frame.DataFrame'>\n",
            "RangeIndex: 344 entries, 0 to 343\n",
            "Data columns (total 7 columns):\n",
            " #   Column             Non-Null Count  Dtype  \n",
            "---  ------             --------------  -----  \n",
            " 0   species            344 non-null    object \n",
            " 1   island             344 non-null    object \n",
            " 2   culmen_length_mm   342 non-null    float64\n",
            " 3   culmen_depth_mm    342 non-null    float64\n",
            " 4   flipper_length_mm  342 non-null    float64\n",
            " 5   body_mass_g        342 non-null    float64\n",
            " 6   sex                334 non-null    object \n",
            "dtypes: float64(4), object(3)\n",
            "memory usage: 18.9+ KB\n"
          ]
        }
      ]
    },
    {
      "cell_type": "markdown",
      "source": [
        "#2-Get the data shape."
      ],
      "metadata": {
        "id": "8PgY-47NH6Wq"
      }
    },
    {
      "cell_type": "code",
      "source": [
        "df.shape"
      ],
      "metadata": {
        "colab": {
          "base_uri": "https://localhost:8080/"
        },
        "id": "_srQAPAhHduh",
        "outputId": "8cec1985-93b8-40ea-b20e-2a9807132b8d"
      },
      "execution_count": null,
      "outputs": [
        {
          "output_type": "execute_result",
          "data": {
            "text/plain": [
              "(344, 7)"
            ]
          },
          "metadata": {},
          "execution_count": 8
        }
      ]
    },
    {
      "cell_type": "markdown",
      "source": [
        "#3-Check for null values."
      ],
      "metadata": {
        "id": "yxVzJRn-ILhx"
      }
    },
    {
      "cell_type": "code",
      "source": [
        "df.isna().any()"
      ],
      "metadata": {
        "colab": {
          "base_uri": "https://localhost:8080/"
        },
        "id": "oE-TEWJkH_qB",
        "outputId": "1b45c7da-f7e9-49c4-9f69-75741b7d7a22"
      },
      "execution_count": null,
      "outputs": [
        {
          "output_type": "execute_result",
          "data": {
            "text/plain": [
              "species              False\n",
              "island               False\n",
              "culmen_length_mm      True\n",
              "culmen_depth_mm       True\n",
              "flipper_length_mm     True\n",
              "body_mass_g           True\n",
              "sex                   True\n",
              "dtype: bool"
            ]
          },
          "metadata": {},
          "execution_count": 9
        }
      ]
    },
    {
      "cell_type": "markdown",
      "source": [
        "# 4-Drop Null Values"
      ],
      "metadata": {
        "id": "KgUzrNTnTr65"
      }
    },
    {
      "cell_type": "code",
      "source": [
        "df = df.dropna()\n",
        "display(df)"
      ],
      "metadata": {
        "colab": {
          "base_uri": "https://localhost:8080/",
          "height": 423
        },
        "id": "QNdFuZ6mTrX7",
        "outputId": "e4dc8ad1-1ddb-48ab-fe9d-4958749b80fa"
      },
      "execution_count": null,
      "outputs": [
        {
          "output_type": "display_data",
          "data": {
            "text/plain": [
              "    species     island  culmen_length_mm  culmen_depth_mm  flipper_length_mm  \\\n",
              "0    Adelie  Torgersen              39.1             18.7              181.0   \n",
              "1    Adelie  Torgersen              39.5             17.4              186.0   \n",
              "2    Adelie  Torgersen              40.3             18.0              195.0   \n",
              "4    Adelie  Torgersen              36.7             19.3              193.0   \n",
              "5    Adelie  Torgersen              39.3             20.6              190.0   \n",
              "..      ...        ...               ...              ...                ...   \n",
              "338  Gentoo     Biscoe              47.2             13.7              214.0   \n",
              "340  Gentoo     Biscoe              46.8             14.3              215.0   \n",
              "341  Gentoo     Biscoe              50.4             15.7              222.0   \n",
              "342  Gentoo     Biscoe              45.2             14.8              212.0   \n",
              "343  Gentoo     Biscoe              49.9             16.1              213.0   \n",
              "\n",
              "     body_mass_g     sex  \n",
              "0         3750.0    MALE  \n",
              "1         3800.0  FEMALE  \n",
              "2         3250.0  FEMALE  \n",
              "4         3450.0  FEMALE  \n",
              "5         3650.0    MALE  \n",
              "..           ...     ...  \n",
              "338       4925.0  FEMALE  \n",
              "340       4850.0  FEMALE  \n",
              "341       5750.0    MALE  \n",
              "342       5200.0  FEMALE  \n",
              "343       5400.0    MALE  \n",
              "\n",
              "[334 rows x 7 columns]"
            ],
            "text/html": [
              "\n",
              "  <div id=\"df-74240a73-5bd6-49df-ae0c-cc38d822d9a7\">\n",
              "    <div class=\"colab-df-container\">\n",
              "      <div>\n",
              "<style scoped>\n",
              "    .dataframe tbody tr th:only-of-type {\n",
              "        vertical-align: middle;\n",
              "    }\n",
              "\n",
              "    .dataframe tbody tr th {\n",
              "        vertical-align: top;\n",
              "    }\n",
              "\n",
              "    .dataframe thead th {\n",
              "        text-align: right;\n",
              "    }\n",
              "</style>\n",
              "<table border=\"1\" class=\"dataframe\">\n",
              "  <thead>\n",
              "    <tr style=\"text-align: right;\">\n",
              "      <th></th>\n",
              "      <th>species</th>\n",
              "      <th>island</th>\n",
              "      <th>culmen_length_mm</th>\n",
              "      <th>culmen_depth_mm</th>\n",
              "      <th>flipper_length_mm</th>\n",
              "      <th>body_mass_g</th>\n",
              "      <th>sex</th>\n",
              "    </tr>\n",
              "  </thead>\n",
              "  <tbody>\n",
              "    <tr>\n",
              "      <th>0</th>\n",
              "      <td>Adelie</td>\n",
              "      <td>Torgersen</td>\n",
              "      <td>39.1</td>\n",
              "      <td>18.7</td>\n",
              "      <td>181.0</td>\n",
              "      <td>3750.0</td>\n",
              "      <td>MALE</td>\n",
              "    </tr>\n",
              "    <tr>\n",
              "      <th>1</th>\n",
              "      <td>Adelie</td>\n",
              "      <td>Torgersen</td>\n",
              "      <td>39.5</td>\n",
              "      <td>17.4</td>\n",
              "      <td>186.0</td>\n",
              "      <td>3800.0</td>\n",
              "      <td>FEMALE</td>\n",
              "    </tr>\n",
              "    <tr>\n",
              "      <th>2</th>\n",
              "      <td>Adelie</td>\n",
              "      <td>Torgersen</td>\n",
              "      <td>40.3</td>\n",
              "      <td>18.0</td>\n",
              "      <td>195.0</td>\n",
              "      <td>3250.0</td>\n",
              "      <td>FEMALE</td>\n",
              "    </tr>\n",
              "    <tr>\n",
              "      <th>4</th>\n",
              "      <td>Adelie</td>\n",
              "      <td>Torgersen</td>\n",
              "      <td>36.7</td>\n",
              "      <td>19.3</td>\n",
              "      <td>193.0</td>\n",
              "      <td>3450.0</td>\n",
              "      <td>FEMALE</td>\n",
              "    </tr>\n",
              "    <tr>\n",
              "      <th>5</th>\n",
              "      <td>Adelie</td>\n",
              "      <td>Torgersen</td>\n",
              "      <td>39.3</td>\n",
              "      <td>20.6</td>\n",
              "      <td>190.0</td>\n",
              "      <td>3650.0</td>\n",
              "      <td>MALE</td>\n",
              "    </tr>\n",
              "    <tr>\n",
              "      <th>...</th>\n",
              "      <td>...</td>\n",
              "      <td>...</td>\n",
              "      <td>...</td>\n",
              "      <td>...</td>\n",
              "      <td>...</td>\n",
              "      <td>...</td>\n",
              "      <td>...</td>\n",
              "    </tr>\n",
              "    <tr>\n",
              "      <th>338</th>\n",
              "      <td>Gentoo</td>\n",
              "      <td>Biscoe</td>\n",
              "      <td>47.2</td>\n",
              "      <td>13.7</td>\n",
              "      <td>214.0</td>\n",
              "      <td>4925.0</td>\n",
              "      <td>FEMALE</td>\n",
              "    </tr>\n",
              "    <tr>\n",
              "      <th>340</th>\n",
              "      <td>Gentoo</td>\n",
              "      <td>Biscoe</td>\n",
              "      <td>46.8</td>\n",
              "      <td>14.3</td>\n",
              "      <td>215.0</td>\n",
              "      <td>4850.0</td>\n",
              "      <td>FEMALE</td>\n",
              "    </tr>\n",
              "    <tr>\n",
              "      <th>341</th>\n",
              "      <td>Gentoo</td>\n",
              "      <td>Biscoe</td>\n",
              "      <td>50.4</td>\n",
              "      <td>15.7</td>\n",
              "      <td>222.0</td>\n",
              "      <td>5750.0</td>\n",
              "      <td>MALE</td>\n",
              "    </tr>\n",
              "    <tr>\n",
              "      <th>342</th>\n",
              "      <td>Gentoo</td>\n",
              "      <td>Biscoe</td>\n",
              "      <td>45.2</td>\n",
              "      <td>14.8</td>\n",
              "      <td>212.0</td>\n",
              "      <td>5200.0</td>\n",
              "      <td>FEMALE</td>\n",
              "    </tr>\n",
              "    <tr>\n",
              "      <th>343</th>\n",
              "      <td>Gentoo</td>\n",
              "      <td>Biscoe</td>\n",
              "      <td>49.9</td>\n",
              "      <td>16.1</td>\n",
              "      <td>213.0</td>\n",
              "      <td>5400.0</td>\n",
              "      <td>MALE</td>\n",
              "    </tr>\n",
              "  </tbody>\n",
              "</table>\n",
              "<p>334 rows × 7 columns</p>\n",
              "</div>\n",
              "      <button class=\"colab-df-convert\" onclick=\"convertToInteractive('df-74240a73-5bd6-49df-ae0c-cc38d822d9a7')\"\n",
              "              title=\"Convert this dataframe to an interactive table.\"\n",
              "              style=\"display:none;\">\n",
              "        \n",
              "  <svg xmlns=\"http://www.w3.org/2000/svg\" height=\"24px\"viewBox=\"0 0 24 24\"\n",
              "       width=\"24px\">\n",
              "    <path d=\"M0 0h24v24H0V0z\" fill=\"none\"/>\n",
              "    <path d=\"M18.56 5.44l.94 2.06.94-2.06 2.06-.94-2.06-.94-.94-2.06-.94 2.06-2.06.94zm-11 1L8.5 8.5l.94-2.06 2.06-.94-2.06-.94L8.5 2.5l-.94 2.06-2.06.94zm10 10l.94 2.06.94-2.06 2.06-.94-2.06-.94-.94-2.06-.94 2.06-2.06.94z\"/><path d=\"M17.41 7.96l-1.37-1.37c-.4-.4-.92-.59-1.43-.59-.52 0-1.04.2-1.43.59L10.3 9.45l-7.72 7.72c-.78.78-.78 2.05 0 2.83L4 21.41c.39.39.9.59 1.41.59.51 0 1.02-.2 1.41-.59l7.78-7.78 2.81-2.81c.8-.78.8-2.07 0-2.86zM5.41 20L4 18.59l7.72-7.72 1.47 1.35L5.41 20z\"/>\n",
              "  </svg>\n",
              "      </button>\n",
              "      \n",
              "  <style>\n",
              "    .colab-df-container {\n",
              "      display:flex;\n",
              "      flex-wrap:wrap;\n",
              "      gap: 12px;\n",
              "    }\n",
              "\n",
              "    .colab-df-convert {\n",
              "      background-color: #E8F0FE;\n",
              "      border: none;\n",
              "      border-radius: 50%;\n",
              "      cursor: pointer;\n",
              "      display: none;\n",
              "      fill: #1967D2;\n",
              "      height: 32px;\n",
              "      padding: 0 0 0 0;\n",
              "      width: 32px;\n",
              "    }\n",
              "\n",
              "    .colab-df-convert:hover {\n",
              "      background-color: #E2EBFA;\n",
              "      box-shadow: 0px 1px 2px rgba(60, 64, 67, 0.3), 0px 1px 3px 1px rgba(60, 64, 67, 0.15);\n",
              "      fill: #174EA6;\n",
              "    }\n",
              "\n",
              "    [theme=dark] .colab-df-convert {\n",
              "      background-color: #3B4455;\n",
              "      fill: #D2E3FC;\n",
              "    }\n",
              "\n",
              "    [theme=dark] .colab-df-convert:hover {\n",
              "      background-color: #434B5C;\n",
              "      box-shadow: 0px 1px 3px 1px rgba(0, 0, 0, 0.15);\n",
              "      filter: drop-shadow(0px 1px 2px rgba(0, 0, 0, 0.3));\n",
              "      fill: #FFFFFF;\n",
              "    }\n",
              "  </style>\n",
              "\n",
              "      <script>\n",
              "        const buttonEl =\n",
              "          document.querySelector('#df-74240a73-5bd6-49df-ae0c-cc38d822d9a7 button.colab-df-convert');\n",
              "        buttonEl.style.display =\n",
              "          google.colab.kernel.accessAllowed ? 'block' : 'none';\n",
              "\n",
              "        async function convertToInteractive(key) {\n",
              "          const element = document.querySelector('#df-74240a73-5bd6-49df-ae0c-cc38d822d9a7');\n",
              "          const dataTable =\n",
              "            await google.colab.kernel.invokeFunction('convertToInteractive',\n",
              "                                                     [key], {});\n",
              "          if (!dataTable) return;\n",
              "\n",
              "          const docLinkHtml = 'Like what you see? Visit the ' +\n",
              "            '<a target=\"_blank\" href=https://colab.research.google.com/notebooks/data_table.ipynb>data table notebook</a>'\n",
              "            + ' to learn more about interactive tables.';\n",
              "          element.innerHTML = '';\n",
              "          dataTable['output_type'] = 'display_data';\n",
              "          await google.colab.output.renderOutput(dataTable, element);\n",
              "          const docLink = document.createElement('div');\n",
              "          docLink.innerHTML = docLinkHtml;\n",
              "          element.appendChild(docLink);\n",
              "        }\n",
              "      </script>\n",
              "    </div>\n",
              "  </div>\n",
              "  "
            ]
          },
          "metadata": {}
        }
      ]
    },
    {
      "cell_type": "markdown",
      "source": [
        "# 5- Remove duplication."
      ],
      "metadata": {
        "id": "PAgBQMN-UDLy"
      }
    },
    {
      "cell_type": "code",
      "source": [
        "df = df.drop_duplicates()\n",
        "display(df)"
      ],
      "metadata": {
        "colab": {
          "base_uri": "https://localhost:8080/",
          "height": 423
        },
        "id": "n7zRGuh6UoKT",
        "outputId": "b45c6d83-40e1-4e77-b197-dfe6620e03da"
      },
      "execution_count": null,
      "outputs": [
        {
          "output_type": "display_data",
          "data": {
            "text/plain": [
              "    species     island  culmen_length_mm  culmen_depth_mm  flipper_length_mm  \\\n",
              "0    Adelie  Torgersen              39.1             18.7              181.0   \n",
              "1    Adelie  Torgersen              39.5             17.4              186.0   \n",
              "2    Adelie  Torgersen              40.3             18.0              195.0   \n",
              "4    Adelie  Torgersen              36.7             19.3              193.0   \n",
              "5    Adelie  Torgersen              39.3             20.6              190.0   \n",
              "..      ...        ...               ...              ...                ...   \n",
              "338  Gentoo     Biscoe              47.2             13.7              214.0   \n",
              "340  Gentoo     Biscoe              46.8             14.3              215.0   \n",
              "341  Gentoo     Biscoe              50.4             15.7              222.0   \n",
              "342  Gentoo     Biscoe              45.2             14.8              212.0   \n",
              "343  Gentoo     Biscoe              49.9             16.1              213.0   \n",
              "\n",
              "     body_mass_g     sex  \n",
              "0         3750.0    MALE  \n",
              "1         3800.0  FEMALE  \n",
              "2         3250.0  FEMALE  \n",
              "4         3450.0  FEMALE  \n",
              "5         3650.0    MALE  \n",
              "..           ...     ...  \n",
              "338       4925.0  FEMALE  \n",
              "340       4850.0  FEMALE  \n",
              "341       5750.0    MALE  \n",
              "342       5200.0  FEMALE  \n",
              "343       5400.0    MALE  \n",
              "\n",
              "[334 rows x 7 columns]"
            ],
            "text/html": [
              "\n",
              "  <div id=\"df-625d0ff2-e23b-4342-ac15-194772bc6491\">\n",
              "    <div class=\"colab-df-container\">\n",
              "      <div>\n",
              "<style scoped>\n",
              "    .dataframe tbody tr th:only-of-type {\n",
              "        vertical-align: middle;\n",
              "    }\n",
              "\n",
              "    .dataframe tbody tr th {\n",
              "        vertical-align: top;\n",
              "    }\n",
              "\n",
              "    .dataframe thead th {\n",
              "        text-align: right;\n",
              "    }\n",
              "</style>\n",
              "<table border=\"1\" class=\"dataframe\">\n",
              "  <thead>\n",
              "    <tr style=\"text-align: right;\">\n",
              "      <th></th>\n",
              "      <th>species</th>\n",
              "      <th>island</th>\n",
              "      <th>culmen_length_mm</th>\n",
              "      <th>culmen_depth_mm</th>\n",
              "      <th>flipper_length_mm</th>\n",
              "      <th>body_mass_g</th>\n",
              "      <th>sex</th>\n",
              "    </tr>\n",
              "  </thead>\n",
              "  <tbody>\n",
              "    <tr>\n",
              "      <th>0</th>\n",
              "      <td>Adelie</td>\n",
              "      <td>Torgersen</td>\n",
              "      <td>39.1</td>\n",
              "      <td>18.7</td>\n",
              "      <td>181.0</td>\n",
              "      <td>3750.0</td>\n",
              "      <td>MALE</td>\n",
              "    </tr>\n",
              "    <tr>\n",
              "      <th>1</th>\n",
              "      <td>Adelie</td>\n",
              "      <td>Torgersen</td>\n",
              "      <td>39.5</td>\n",
              "      <td>17.4</td>\n",
              "      <td>186.0</td>\n",
              "      <td>3800.0</td>\n",
              "      <td>FEMALE</td>\n",
              "    </tr>\n",
              "    <tr>\n",
              "      <th>2</th>\n",
              "      <td>Adelie</td>\n",
              "      <td>Torgersen</td>\n",
              "      <td>40.3</td>\n",
              "      <td>18.0</td>\n",
              "      <td>195.0</td>\n",
              "      <td>3250.0</td>\n",
              "      <td>FEMALE</td>\n",
              "    </tr>\n",
              "    <tr>\n",
              "      <th>4</th>\n",
              "      <td>Adelie</td>\n",
              "      <td>Torgersen</td>\n",
              "      <td>36.7</td>\n",
              "      <td>19.3</td>\n",
              "      <td>193.0</td>\n",
              "      <td>3450.0</td>\n",
              "      <td>FEMALE</td>\n",
              "    </tr>\n",
              "    <tr>\n",
              "      <th>5</th>\n",
              "      <td>Adelie</td>\n",
              "      <td>Torgersen</td>\n",
              "      <td>39.3</td>\n",
              "      <td>20.6</td>\n",
              "      <td>190.0</td>\n",
              "      <td>3650.0</td>\n",
              "      <td>MALE</td>\n",
              "    </tr>\n",
              "    <tr>\n",
              "      <th>...</th>\n",
              "      <td>...</td>\n",
              "      <td>...</td>\n",
              "      <td>...</td>\n",
              "      <td>...</td>\n",
              "      <td>...</td>\n",
              "      <td>...</td>\n",
              "      <td>...</td>\n",
              "    </tr>\n",
              "    <tr>\n",
              "      <th>338</th>\n",
              "      <td>Gentoo</td>\n",
              "      <td>Biscoe</td>\n",
              "      <td>47.2</td>\n",
              "      <td>13.7</td>\n",
              "      <td>214.0</td>\n",
              "      <td>4925.0</td>\n",
              "      <td>FEMALE</td>\n",
              "    </tr>\n",
              "    <tr>\n",
              "      <th>340</th>\n",
              "      <td>Gentoo</td>\n",
              "      <td>Biscoe</td>\n",
              "      <td>46.8</td>\n",
              "      <td>14.3</td>\n",
              "      <td>215.0</td>\n",
              "      <td>4850.0</td>\n",
              "      <td>FEMALE</td>\n",
              "    </tr>\n",
              "    <tr>\n",
              "      <th>341</th>\n",
              "      <td>Gentoo</td>\n",
              "      <td>Biscoe</td>\n",
              "      <td>50.4</td>\n",
              "      <td>15.7</td>\n",
              "      <td>222.0</td>\n",
              "      <td>5750.0</td>\n",
              "      <td>MALE</td>\n",
              "    </tr>\n",
              "    <tr>\n",
              "      <th>342</th>\n",
              "      <td>Gentoo</td>\n",
              "      <td>Biscoe</td>\n",
              "      <td>45.2</td>\n",
              "      <td>14.8</td>\n",
              "      <td>212.0</td>\n",
              "      <td>5200.0</td>\n",
              "      <td>FEMALE</td>\n",
              "    </tr>\n",
              "    <tr>\n",
              "      <th>343</th>\n",
              "      <td>Gentoo</td>\n",
              "      <td>Biscoe</td>\n",
              "      <td>49.9</td>\n",
              "      <td>16.1</td>\n",
              "      <td>213.0</td>\n",
              "      <td>5400.0</td>\n",
              "      <td>MALE</td>\n",
              "    </tr>\n",
              "  </tbody>\n",
              "</table>\n",
              "<p>334 rows × 7 columns</p>\n",
              "</div>\n",
              "      <button class=\"colab-df-convert\" onclick=\"convertToInteractive('df-625d0ff2-e23b-4342-ac15-194772bc6491')\"\n",
              "              title=\"Convert this dataframe to an interactive table.\"\n",
              "              style=\"display:none;\">\n",
              "        \n",
              "  <svg xmlns=\"http://www.w3.org/2000/svg\" height=\"24px\"viewBox=\"0 0 24 24\"\n",
              "       width=\"24px\">\n",
              "    <path d=\"M0 0h24v24H0V0z\" fill=\"none\"/>\n",
              "    <path d=\"M18.56 5.44l.94 2.06.94-2.06 2.06-.94-2.06-.94-.94-2.06-.94 2.06-2.06.94zm-11 1L8.5 8.5l.94-2.06 2.06-.94-2.06-.94L8.5 2.5l-.94 2.06-2.06.94zm10 10l.94 2.06.94-2.06 2.06-.94-2.06-.94-.94-2.06-.94 2.06-2.06.94z\"/><path d=\"M17.41 7.96l-1.37-1.37c-.4-.4-.92-.59-1.43-.59-.52 0-1.04.2-1.43.59L10.3 9.45l-7.72 7.72c-.78.78-.78 2.05 0 2.83L4 21.41c.39.39.9.59 1.41.59.51 0 1.02-.2 1.41-.59l7.78-7.78 2.81-2.81c.8-.78.8-2.07 0-2.86zM5.41 20L4 18.59l7.72-7.72 1.47 1.35L5.41 20z\"/>\n",
              "  </svg>\n",
              "      </button>\n",
              "      \n",
              "  <style>\n",
              "    .colab-df-container {\n",
              "      display:flex;\n",
              "      flex-wrap:wrap;\n",
              "      gap: 12px;\n",
              "    }\n",
              "\n",
              "    .colab-df-convert {\n",
              "      background-color: #E8F0FE;\n",
              "      border: none;\n",
              "      border-radius: 50%;\n",
              "      cursor: pointer;\n",
              "      display: none;\n",
              "      fill: #1967D2;\n",
              "      height: 32px;\n",
              "      padding: 0 0 0 0;\n",
              "      width: 32px;\n",
              "    }\n",
              "\n",
              "    .colab-df-convert:hover {\n",
              "      background-color: #E2EBFA;\n",
              "      box-shadow: 0px 1px 2px rgba(60, 64, 67, 0.3), 0px 1px 3px 1px rgba(60, 64, 67, 0.15);\n",
              "      fill: #174EA6;\n",
              "    }\n",
              "\n",
              "    [theme=dark] .colab-df-convert {\n",
              "      background-color: #3B4455;\n",
              "      fill: #D2E3FC;\n",
              "    }\n",
              "\n",
              "    [theme=dark] .colab-df-convert:hover {\n",
              "      background-color: #434B5C;\n",
              "      box-shadow: 0px 1px 3px 1px rgba(0, 0, 0, 0.15);\n",
              "      filter: drop-shadow(0px 1px 2px rgba(0, 0, 0, 0.3));\n",
              "      fill: #FFFFFF;\n",
              "    }\n",
              "  </style>\n",
              "\n",
              "      <script>\n",
              "        const buttonEl =\n",
              "          document.querySelector('#df-625d0ff2-e23b-4342-ac15-194772bc6491 button.colab-df-convert');\n",
              "        buttonEl.style.display =\n",
              "          google.colab.kernel.accessAllowed ? 'block' : 'none';\n",
              "\n",
              "        async function convertToInteractive(key) {\n",
              "          const element = document.querySelector('#df-625d0ff2-e23b-4342-ac15-194772bc6491');\n",
              "          const dataTable =\n",
              "            await google.colab.kernel.invokeFunction('convertToInteractive',\n",
              "                                                     [key], {});\n",
              "          if (!dataTable) return;\n",
              "\n",
              "          const docLinkHtml = 'Like what you see? Visit the ' +\n",
              "            '<a target=\"_blank\" href=https://colab.research.google.com/notebooks/data_table.ipynb>data table notebook</a>'\n",
              "            + ' to learn more about interactive tables.';\n",
              "          element.innerHTML = '';\n",
              "          dataTable['output_type'] = 'display_data';\n",
              "          await google.colab.output.renderOutput(dataTable, element);\n",
              "          const docLink = document.createElement('div');\n",
              "          docLink.innerHTML = docLinkHtml;\n",
              "          element.appendChild(docLink);\n",
              "        }\n",
              "      </script>\n",
              "    </div>\n",
              "  </div>\n",
              "  "
            ]
          },
          "metadata": {}
        }
      ]
    },
    {
      "cell_type": "markdown",
      "source": [
        "#6- Get the unique values in the categorical columns."
      ],
      "metadata": {
        "id": "m5EIpGG2VoYa"
      }
    },
    {
      "cell_type": "markdown",
      "source": [
        "species"
      ],
      "metadata": {
        "id": "kHvRKr87W3Ji"
      }
    },
    {
      "cell_type": "code",
      "source": [
        "specie = df.species.unique()\n",
        "print(specie)"
      ],
      "metadata": {
        "colab": {
          "base_uri": "https://localhost:8080/"
        },
        "id": "ePhxRKvAVUvi",
        "outputId": "187810f3-b073-4651-d49e-c861695eef23"
      },
      "execution_count": null,
      "outputs": [
        {
          "output_type": "stream",
          "name": "stdout",
          "text": [
            "['Adelie' 'Chinstrap' 'Gentoo']\n"
          ]
        }
      ]
    },
    {
      "cell_type": "markdown",
      "source": [
        "island"
      ],
      "metadata": {
        "id": "F5fmofYcW5BB"
      }
    },
    {
      "cell_type": "code",
      "source": [
        "islands = df.island.unique()\n",
        "print(islands)"
      ],
      "metadata": {
        "colab": {
          "base_uri": "https://localhost:8080/"
        },
        "id": "sXsLrgbOW1iR",
        "outputId": "357435f4-17f2-4c49-f6e5-6f283ce0e115"
      },
      "execution_count": null,
      "outputs": [
        {
          "output_type": "stream",
          "name": "stdout",
          "text": [
            "['Torgersen' 'Biscoe' 'Dream']\n"
          ]
        }
      ]
    },
    {
      "cell_type": "markdown",
      "source": [
        "Sex"
      ],
      "metadata": {
        "id": "_uQjAuSoXCTZ"
      }
    },
    {
      "cell_type": "code",
      "source": [
        "df = df.replace(['.'],'FEMALE')"
      ],
      "metadata": {
        "id": "UZIa6z0g_7BC"
      },
      "execution_count": null,
      "outputs": []
    },
    {
      "cell_type": "code",
      "source": [
        "sexes = df.sex.unique()\n",
        "print(sexes)"
      ],
      "metadata": {
        "colab": {
          "base_uri": "https://localhost:8080/"
        },
        "id": "BgPPtX2cXBSS",
        "outputId": "3caefe0f-8422-48ea-85c8-826189d288c2"
      },
      "execution_count": null,
      "outputs": [
        {
          "output_type": "stream",
          "name": "stdout",
          "text": [
            "['MALE' 'FEMALE']\n"
          ]
        }
      ]
    },
    {
      "cell_type": "markdown",
      "source": [
        "7- Look at the categories of the columns with the pie plot."
      ],
      "metadata": {
        "id": "f-9pe-UVYAcz"
      }
    },
    {
      "cell_type": "code",
      "source": [
        "import matplotlib.pyplot as plt\n"
      ],
      "metadata": {
        "id": "E779tbotXQQx"
      },
      "execution_count": null,
      "outputs": []
    },
    {
      "cell_type": "code",
      "source": [
        "df.groupby(['species']).sum().plot(kind='pie', subplots=True, shadow = True,startangle=90,figsize=(25,10),autopct='%1.1f%%')"
      ],
      "metadata": {
        "colab": {
          "base_uri": "https://localhost:8080/",
          "height": 342
        },
        "id": "nOFrlkl61pzf",
        "outputId": "f6e62464-0b50-477a-8096-dfd6513b2422"
      },
      "execution_count": null,
      "outputs": [
        {
          "output_type": "execute_result",
          "data": {
            "text/plain": [
              "array([<Axes: ylabel='culmen_length_mm'>,\n",
              "       <Axes: ylabel='culmen_depth_mm'>,\n",
              "       <Axes: ylabel='flipper_length_mm'>, <Axes: ylabel='body_mass_g'>],\n",
              "      dtype=object)"
            ]
          },
          "metadata": {},
          "execution_count": 56
        },
        {
          "output_type": "display_data",
          "data": {
            "text/plain": [
              "<Figure size 1800x720 with 4 Axes>"
            ],
            "image/png": "[encoded data removed]"
          },
          "metadata": {}
        }
      ]
    },
    {
      "cell_type": "code",
      "source": [
        "df.groupby(['island']).sum().plot(kind='pie', subplots=True, shadow = True,startangle=90,figsize=(25,10),autopct='%1.1f%%')"
      ],
      "metadata": {
        "colab": {
          "base_uri": "https://localhost:8080/",
          "height": 342
        },
        "outputId": "0d1c77a8-a63e-484f-a399-6f3a2934b913",
        "id": "OnYRfgyk9S40"
      },
      "execution_count": null,
      "outputs": [
        {
          "output_type": "execute_result",
          "data": {
            "text/plain": [
              "array([<Axes: ylabel='culmen_length_mm'>,\n",
              "       <Axes: ylabel='culmen_depth_mm'>,\n",
              "       <Axes: ylabel='flipper_length_mm'>, <Axes: ylabel='body_mass_g'>],\n",
              "      dtype=object)"
            ]
          },
          "metadata": {},
          "execution_count": 57
        },
        {
          "output_type": "display_data",
          "data": {
            "text/plain": [
              "<Figure size 1800x720 with 4 Axes>"
            ],
            "image/png": "[encoded data removed]"
          },
          "metadata": {}
        }
      ]
    },
    {
      "cell_type": "code",
      "source": [
        "df.groupby(['sex']).sum().plot(kind='pie', subplots=True, shadow = True,startangle=90,figsize=(25,10),autopct='%1.1f%%')"
      ],
      "metadata": {
        "colab": {
          "base_uri": "https://localhost:8080/",
          "height": 342
        },
        "outputId": "4ec91ad4-3ca0-4c4e-f7ee-1517d4e427aa",
        "id": "0vX4c-2y9cXi"
      },
      "execution_count": null,
      "outputs": [
        {
          "output_type": "execute_result",
          "data": {
            "text/plain": [
              "array([<Axes: ylabel='culmen_length_mm'>,\n",
              "       <Axes: ylabel='culmen_depth_mm'>,\n",
              "       <Axes: ylabel='flipper_length_mm'>, <Axes: ylabel='body_mass_g'>],\n",
              "      dtype=object)"
            ]
          },
          "metadata": {},
          "execution_count": 58
        },
        {
          "output_type": "display_data",
          "data": {
            "text/plain": [
              "<Figure size 1800x720 with 4 Axes>"
            ],
            "image/png": "[encoded data removed]"
          },
          "metadata": {}
        }
      ]
    },
    {
      "cell_type": "markdown",
      "source": [
        "8- Count the values of male and female in sex column."
      ],
      "metadata": {
        "id": "KvFE2Sr69lJn"
      }
    },
    {
      "cell_type": "code",
      "source": [
        "df['sex'].value_counts()"
      ],
      "metadata": {
        "colab": {
          "base_uri": "https://localhost:8080/"
        },
        "id": "YVJieArl9dcd",
        "outputId": "28b472b5-3da5-47d2-febc-8e6a40d3579b"
      },
      "execution_count": null,
      "outputs": [
        {
          "output_type": "execute_result",
          "data": {
            "text/plain": [
              "MALE      168\n",
              "FEMALE    165\n",
              ".           1\n",
              "Name: sex, dtype: int64"
            ]
          },
          "metadata": {},
          "execution_count": 59
        }
      ]
    },
    {
      "cell_type": "markdown",
      "source": [
        "- Show the scatter plot of culmen lengths and depths by penguin species."
      ],
      "metadata": {
        "id": "9Y9flVoi-7wo"
      }
    },
    {
      "cell_type": "code",
      "source": [
        "import seaborn as sns\n",
        "sns.FacetGrid(df, hue=\"species\").map(plt.scatter, \"culmen_length_mm\", \"culmen_depth_mm\",s=5) .add_legend()"
      ],
      "metadata": {
        "colab": {
          "base_uri": "https://localhost:8080/",
          "height": 242
        },
        "id": "2NBUwiAuP4pj",
        "outputId": "8ddafb62-8d6a-4a73-ae33-ba3bdb5e43a6"
      },
      "execution_count": null,
      "outputs": [
        {
          "output_type": "execute_result",
          "data": {
            "text/plain": [
              "<seaborn.axisgrid.FacetGrid at 0x7eff6f939d90>"
            ]
          },
          "metadata": {},
          "execution_count": 60
        },
        {
          "output_type": "display_data",
          "data": {
            "text/plain": [
              "<Figure size 300.125x216 with 1 Axes>"
            ],
            "image/png": "[encoded data removed]"
          },
          "metadata": {
            "needs_background": "light"
          }
        }
      ]
    },
    {
      "cell_type": "markdown",
      "source": [
        "the Adelie spcies have a short culmen and deepest culmen"
      ],
      "metadata": {
        "id": "OcK4V9GyjHMs"
      }
    },
    {
      "cell_type": "markdown",
      "source": [
        "Show the histogram plot to see the distribution of one or more variables (the\n",
        "histogram of the flipper length using the histplot function)."
      ],
      "metadata": {
        "id": "BZ43cGjuR8Kz"
      }
    },
    {
      "cell_type": "code",
      "source": [
        "sns.histplot(data =df,x='body_mass_g' ,kde = True)"
      ],
      "metadata": {
        "colab": {
          "base_uri": "https://localhost:8080/",
          "height": 297
        },
        "id": "wgRWzUUdReHj",
        "outputId": "5691e2c8-1cd9-4703-e883-7b9938e08665"
      },
      "execution_count": null,
      "outputs": [
        {
          "output_type": "execute_result",
          "data": {
            "text/plain": [
              "<Axes: xlabel='body_mass_g', ylabel='Count'>"
            ]
          },
          "metadata": {},
          "execution_count": 61
        },
        {
          "output_type": "display_data",
          "data": {
            "text/plain": [
              "<Figure size 432x288 with 1 Axes>"
            ],
            "image/png": "[encoded data removed]"
          },
          "metadata": {
            "needs_background": "light"
          }
        }
      ]
    },
    {
      "cell_type": "markdown",
      "source": [
        "- Show the bar plot of the flipper lengths of penguin species."
      ],
      "metadata": {
        "id": "q5JpgQEEUi68"
      }
    },
    {
      "cell_type": "code",
      "source": [
        "plt.bar(x= df['species'] ,height= df['flipper_length_mm'])"
      ],
      "metadata": {
        "colab": {
          "base_uri": "https://localhost:8080/",
          "height": 282
        },
        "id": "JXNWjk-2SS-z",
        "outputId": "5a0feb7b-4a98-4559-f27c-66cbd9141453"
      },
      "execution_count": null,
      "outputs": [
        {
          "output_type": "execute_result",
          "data": {
            "text/plain": [
              "<BarContainer object of 334 artists>"
            ]
          },
          "metadata": {},
          "execution_count": 62
        },
        {
          "output_type": "display_data",
          "data": {
            "text/plain": [
              "<Figure size 432x288 with 1 Axes>"
            ],
            "image/png": "[encoded data removed]"
          },
          "metadata": {
            "needs_background": "light"
          }
        }
      ]
    },
    {
      "cell_type": "markdown",
      "source": [
        "- Show the distribution of flipper length by species using boxplot."
      ],
      "metadata": {
        "id": "Eo5hmilsWEgq"
      }
    },
    {
      "cell_type": "code",
      "source": [
        "sns.boxplot( x=df['species'], y=df['flipper_length_mm'] )"
      ],
      "metadata": {
        "colab": {
          "base_uri": "https://localhost:8080/",
          "height": 296
        },
        "id": "SJSTBVpLU-NZ",
        "outputId": "bc16545b-e355-4ca0-f778-7253ddbc0b4f"
      },
      "execution_count": null,
      "outputs": [
        {
          "output_type": "execute_result",
          "data": {
            "text/plain": [
              "<Axes: xlabel='species', ylabel='flipper_length_mm'>"
            ]
          },
          "metadata": {},
          "execution_count": 63
        },
        {
          "output_type": "display_data",
          "data": {
            "text/plain": [
              "<Figure size 432x288 with 1 Axes>"
            ],
            "image/png": "[encoded data removed]"
          },
          "metadata": {
            "needs_background": "light"
          }
        }
      ]
    },
    {
      "cell_type": "markdown",
      "source": [
        "- use the corr function to see the correlation with the annot parameter."
      ],
      "metadata": {
        "id": "nAEaocjSWZT6"
      }
    },
    {
      "cell_type": "code",
      "source": [
        "import numpy as np\n",
        "df = pd.DataFrame(np.random.random((5,5)), columns=[\"a\",\"b\",\"c\",\"d\",\"e\"])\n",
        "\n",
        "sns.heatmap(df,annot = True,cmap=sns.cubehelix_palette(n_colors= 2,as_cmap=True))"
      ],
      "metadata": {
        "colab": {
          "base_uri": "https://localhost:8080/",
          "height": 282
        },
        "id": "0nVk3mRQWU8J",
        "outputId": "c52a18e6-6642-40a7-8e2f-f0c2d7b0148e"
      },
      "execution_count": null,
      "outputs": [
        {
          "output_type": "execute_result",
          "data": {
            "text/plain": [
              "<Axes: >"
            ]
          },
          "metadata": {},
          "execution_count": 64
        },
        {
          "output_type": "display_data",
          "data": {
            "text/plain": [
              "<Figure size 432x288 with 2 Axes>"
            ],
            "image/png": "[encoded data removed]"
          },
          "metadata": {
            "needs_background": "light"
          }
        }
      ]
    },
    {
      "cell_type": "markdown",
      "source": [
        "#Problem5"
      ],
      "metadata": {
        "id": "S2U7YO3CXt_7"
      }
    },
    {
      "cell_type": "markdown",
      "source": [
        "# check if there are missing values"
      ],
      "metadata": {
        "id": "zQPjrfeMY6yR"
      }
    },
    {
      "cell_type": "code",
      "source": [
        "import pandas as pd\n",
        "cus = pd.read_csv('/content/customers.csv')\n",
        "display(cus)"
      ],
      "metadata": {
        "colab": {
          "base_uri": "https://localhost:8080/",
          "height": 423
        },
        "id": "7xM9Bj-KWp0I",
        "outputId": "05815b26-ebf7-4357-c040-3f4558534a3e"
      },
      "execution_count": null,
      "outputs": [
        {
          "output_type": "display_data",
          "data": {
            "text/plain": [
              "     customer_ID   age    country  gender                      items_bought  \\\n",
              "0              1  40.0      Spain    male             keyboard webcam mouse   \n",
              "1              2  23.0     Sweden    male          headset mouse microphone   \n",
              "2              3  32.0  Australia  female           webcam mouse controller   \n",
              "3              4  36.0        USA    male     microphone microphone headset   \n",
              "4              5  27.0         UK    male       microphone mouse controller   \n",
              "..           ...   ...        ...     ...                               ...   \n",
              "97            96  22.0     Sweden  female  controller microphone microphone   \n",
              "98            97  49.0     Sweden    male              keyboard mouse mouse   \n",
              "99            98  39.0     Canada    male        controller keyboard webcam   \n",
              "100           99  43.0     Canada    male              webcam webcam webcam   \n",
              "101          100  30.0        USA    male            webcam keyboard webcam   \n",
              "\n",
              "       payment_method delivered  \n",
              "0    cash on delivery      late  \n",
              "1    cash on delivery   on time  \n",
              "2         credit card      late  \n",
              "3    cash on delivery      late  \n",
              "4    cash on delivery   on time  \n",
              "..                ...       ...  \n",
              "97   cash on delivery      late  \n",
              "98        credit card   on time  \n",
              "99        credit card   on time  \n",
              "100       credit card      late  \n",
              "101       credit card      late  \n",
              "\n",
              "[102 rows x 7 columns]"
            ],
            "text/html": [
              "\n",
              "  <div id=\"df-ad7c8627-94ee-4212-92f0-4d4225c6d7e4\">\n",
              "    <div class=\"colab-df-container\">\n",
              "      <div>\n",
              "<style scoped>\n",
              "    .dataframe tbody tr th:only-of-type {\n",
              "        vertical-align: middle;\n",
              "    }\n",
              "\n",
              "    .dataframe tbody tr th {\n",
              "        vertical-align: top;\n",
              "    }\n",
              "\n",
              "    .dataframe thead th {\n",
              "        text-align: right;\n",
              "    }\n",
              "</style>\n",
              "<table border=\"1\" class=\"dataframe\">\n",
              "  <thead>\n",
              "    <tr style=\"text-align: right;\">\n",
              "      <th></th>\n",
              "      <th>customer_ID</th>\n",
              "      <th>age</th>\n",
              "      <th>country</th>\n",
              "      <th>gender</th>\n",
              "      <th>items_bought</th>\n",
              "      <th>payment_method</th>\n",
              "      <th>delivered</th>\n",
              "    </tr>\n",
              "  </thead>\n",
              "  <tbody>\n",
              "    <tr>\n",
              "      <th>0</th>\n",
              "      <td>1</td>\n",
              "      <td>40.0</td>\n",
              "      <td>Spain</td>\n",
              "      <td>male</td>\n",
              "      <td>keyboard webcam mouse</td>\n",
              "      <td>cash on delivery</td>\n",
              "      <td>late</td>\n",
              "    </tr>\n",
              "    <tr>\n",
              "      <th>1</th>\n",
              "      <td>2</td>\n",
              "      <td>23.0</td>\n",
              "      <td>Sweden</td>\n",
              "      <td>male</td>\n",
              "      <td>headset mouse microphone</td>\n",
              "      <td>cash on delivery</td>\n",
              "      <td>on time</td>\n",
              "    </tr>\n",
              "    <tr>\n",
              "      <th>2</th>\n",
              "      <td>3</td>\n",
              "      <td>32.0</td>\n",
              "      <td>Australia</td>\n",
              "      <td>female</td>\n",
              "      <td>webcam mouse controller</td>\n",
              "      <td>credit card</td>\n",
              "      <td>late</td>\n",
              "    </tr>\n",
              "    <tr>\n",
              "      <th>3</th>\n",
              "      <td>4</td>\n",
              "      <td>36.0</td>\n",
              "      <td>USA</td>\n",
              "      <td>male</td>\n",
              "      <td>microphone microphone headset</td>\n",
              "      <td>cash on delivery</td>\n",
              "      <td>late</td>\n",
              "    </tr>\n",
              "    <tr>\n",
              "      <th>4</th>\n",
              "      <td>5</td>\n",
              "      <td>27.0</td>\n",
              "      <td>UK</td>\n",
              "      <td>male</td>\n",
              "      <td>microphone mouse controller</td>\n",
              "      <td>cash on delivery</td>\n",
              "      <td>on time</td>\n",
              "    </tr>\n",
              "    <tr>\n",
              "      <th>...</th>\n",
              "      <td>...</td>\n",
              "      <td>...</td>\n",
              "      <td>...</td>\n",
              "      <td>...</td>\n",
              "      <td>...</td>\n",
              "      <td>...</td>\n",
              "      <td>...</td>\n",
              "    </tr>\n",
              "    <tr>\n",
              "      <th>97</th>\n",
              "      <td>96</td>\n",
              "      <td>22.0</td>\n",
              "      <td>Sweden</td>\n",
              "      <td>female</td>\n",
              "      <td>controller microphone microphone</td>\n",
              "      <td>cash on delivery</td>\n",
              "      <td>late</td>\n",
              "    </tr>\n",
              "    <tr>\n",
              "      <th>98</th>\n",
              "      <td>97</td>\n",
              "      <td>49.0</td>\n",
              "      <td>Sweden</td>\n",
              "      <td>male</td>\n",
              "      <td>keyboard mouse mouse</td>\n",
              "      <td>credit card</td>\n",
              "      <td>on time</td>\n",
              "    </tr>\n",
              "    <tr>\n",
              "      <th>99</th>\n",
              "      <td>98</td>\n",
              "      <td>39.0</td>\n",
              "      <td>Canada</td>\n",
              "      <td>male</td>\n",
              "      <td>controller keyboard webcam</td>\n",
              "      <td>credit card</td>\n",
              "      <td>on time</td>\n",
              "    </tr>\n",
              "    <tr>\n",
              "      <th>100</th>\n",
              "      <td>99</td>\n",
              "      <td>43.0</td>\n",
              "      <td>Canada</td>\n",
              "      <td>male</td>\n",
              "      <td>webcam webcam webcam</td>\n",
              "      <td>credit card</td>\n",
              "      <td>late</td>\n",
              "    </tr>\n",
              "    <tr>\n",
              "      <th>101</th>\n",
              "      <td>100</td>\n",
              "      <td>30.0</td>\n",
              "      <td>USA</td>\n",
              "      <td>male</td>\n",
              "      <td>webcam keyboard webcam</td>\n",
              "      <td>credit card</td>\n",
              "      <td>late</td>\n",
              "    </tr>\n",
              "  </tbody>\n",
              "</table>\n",
              "<p>102 rows × 7 columns</p>\n",
              "</div>\n",
              "      <button class=\"colab-df-convert\" onclick=\"convertToInteractive('df-ad7c8627-94ee-4212-92f0-4d4225c6d7e4')\"\n",
              "              title=\"Convert this dataframe to an interactive table.\"\n",
              "              style=\"display:none;\">\n",
              "        \n",
              "  <svg xmlns=\"http://www.w3.org/2000/svg\" height=\"24px\"viewBox=\"0 0 24 24\"\n",
              "       width=\"24px\">\n",
              "    <path d=\"M0 0h24v24H0V0z\" fill=\"none\"/>\n",
              "    <path d=\"M18.56 5.44l.94 2.06.94-2.06 2.06-.94-2.06-.94-.94-2.06-.94 2.06-2.06.94zm-11 1L8.5 8.5l.94-2.06 2.06-.94-2.06-.94L8.5 2.5l-.94 2.06-2.06.94zm10 10l.94 2.06.94-2.06 2.06-.94-2.06-.94-.94-2.06-.94 2.06-2.06.94z\"/><path d=\"M17.41 7.96l-1.37-1.37c-.4-.4-.92-.59-1.43-.59-.52 0-1.04.2-1.43.59L10.3 9.45l-7.72 7.72c-.78.78-.78 2.05 0 2.83L4 21.41c.39.39.9.59 1.41.59.51 0 1.02-.2 1.41-.59l7.78-7.78 2.81-2.81c.8-.78.8-2.07 0-2.86zM5.41 20L4 18.59l7.72-7.72 1.47 1.35L5.41 20z\"/>\n",
              "  </svg>\n",
              "      </button>\n",
              "      \n",
              "  <style>\n",
              "    .colab-df-container {\n",
              "      display:flex;\n",
              "      flex-wrap:wrap;\n",
              "      gap: 12px;\n",
              "    }\n",
              "\n",
              "    .colab-df-convert {\n",
              "      background-color: #E8F0FE;\n",
              "      border: none;\n",
              "      border-radius: 50%;\n",
              "      cursor: pointer;\n",
              "      display: none;\n",
              "      fill: #1967D2;\n",
              "      height: 32px;\n",
              "      padding: 0 0 0 0;\n",
              "      width: 32px;\n",
              "    }\n",
              "\n",
              "    .colab-df-convert:hover {\n",
              "      background-color: #E2EBFA;\n",
              "      box-shadow: 0px 1px 2px rgba(60, 64, 67, 0.3), 0px 1px 3px 1px rgba(60, 64, 67, 0.15);\n",
              "      fill: #174EA6;\n",
              "    }\n",
              "\n",
              "    [theme=dark] .colab-df-convert {\n",
              "      background-color: #3B4455;\n",
              "      fill: #D2E3FC;\n",
              "    }\n",
              "\n",
              "    [theme=dark] .colab-df-convert:hover {\n",
              "      background-color: #434B5C;\n",
              "      box-shadow: 0px 1px 3px 1px rgba(0, 0, 0, 0.15);\n",
              "      filter: drop-shadow(0px 1px 2px rgba(0, 0, 0, 0.3));\n",
              "      fill: #FFFFFF;\n",
              "    }\n",
              "  </style>\n",
              "\n",
              "      <script>\n",
              "        const buttonEl =\n",
              "          document.querySelector('#df-ad7c8627-94ee-4212-92f0-4d4225c6d7e4 button.colab-df-convert');\n",
              "        buttonEl.style.display =\n",
              "          google.colab.kernel.accessAllowed ? 'block' : 'none';\n",
              "\n",
              "        async function convertToInteractive(key) {\n",
              "          const element = document.querySelector('#df-ad7c8627-94ee-4212-92f0-4d4225c6d7e4');\n",
              "          const dataTable =\n",
              "            await google.colab.kernel.invokeFunction('convertToInteractive',\n",
              "                                                     [key], {});\n",
              "          if (!dataTable) return;\n",
              "\n",
              "          const docLinkHtml = 'Like what you see? Visit the ' +\n",
              "            '<a target=\"_blank\" href=https://colab.research.google.com/notebooks/data_table.ipynb>data table notebook</a>'\n",
              "            + ' to learn more about interactive tables.';\n",
              "          element.innerHTML = '';\n",
              "          dataTable['output_type'] = 'display_data';\n",
              "          await google.colab.output.renderOutput(dataTable, element);\n",
              "          const docLink = document.createElement('div');\n",
              "          docLink.innerHTML = docLinkHtml;\n",
              "          element.appendChild(docLink);\n",
              "        }\n",
              "      </script>\n",
              "    </div>\n",
              "  </div>\n",
              "  "
            ]
          },
          "metadata": {}
        }
      ]
    },
    {
      "cell_type": "code",
      "source": [],
      "metadata": {
        "id": "gEVZuOuvEr2b"
      },
      "execution_count": null,
      "outputs": []
    },
    {
      "cell_type": "code",
      "source": [
        "keyboard = 0\n",
        "\n",
        "for i in cus['items_bought']:\n",
        "  list_1 = i.split()\n",
        "  print(list_1)\n",
        "  for row in cus.iloc[row:]\n",
        "    for idx,element in enumerate(list_1):\n",
        "      cus[idx] = element\n",
        "\n",
        "cus\n"
      ],
      "metadata": {
        "colab": {
          "base_uri": "https://localhost:8080/",
          "height": 1000
        },
        "id": "J1qikwmiDKwb",
        "outputId": "fca66a0d-c395-4ead-ee32-d6335b493690"
      },
      "execution_count": null,
      "outputs": [
        {
          "output_type": "stream",
          "name": "stdout",
          "text": [
            "['keyboard', 'webcam', 'mouse']\n",
            "['headset', 'mouse', 'microphone']\n",
            "['webcam', 'mouse', 'controller']\n",
            "['microphone', 'microphone', 'headset']\n",
            "['microphone', 'mouse', 'controller']\n",
            "['mouse', 'keyboard', 'webcam']\n",
            "['keyboard', 'keyboard', 'controller']\n",
            "['mouse', 'controller', 'headset']\n",
            "['webcam', 'headset', 'mouse']\n",
            "['mouse', 'mouse', 'mouse']\n",
            "['microphone', 'microphone', 'keyboard']\n",
            "['mouse', 'keyboard', 'headset']\n",
            "['keyboard', 'controller', 'controller']\n",
            "['mouse', 'controller', 'controller']\n",
            "['webcam', 'mouse', 'mouse']\n",
            "['webcam', 'mouse', 'mouse']\n",
            "['microphone', 'webcam', 'headset']\n",
            "['keyboard', 'mouse', 'controller']\n",
            "['controller', 'headset', 'mouse']\n",
            "['microphone', 'mouse', 'keyboard']\n",
            "['controller', 'microphone', 'microphone']\n",
            "['controller', 'webcam', 'webcam']\n",
            "['microphone', 'webcam', 'microphone']\n",
            "['webcam', 'keyboard', 'keyboard']\n",
            "['microphone', 'headset', 'microphone']\n",
            "['mouse', 'headset', 'headset']\n",
            "['controller', 'controller', 'webcam']\n",
            "['headset', 'mouse', 'controller']\n",
            "['webcam', 'mouse', 'keyboard']\n",
            "['headset', 'mouse', 'mouse']\n",
            "['headset', 'headset', 'mouse']\n",
            "['webcam', 'microphone', 'headset']\n",
            "['headset', 'controller', 'webcam']\n",
            "['controller', 'webcam', 'keyboard']\n",
            "['keyboard', 'mouse', 'mouse']\n",
            "['headset', 'mouse', 'mouse']\n",
            "['mouse', 'controller', 'mouse']\n",
            "['headset', 'mouse', 'webcam']\n",
            "['microphone', 'controller', 'webcam']\n",
            "['microphone', 'headset', 'mouse']\n",
            "['webcam', 'keyboard', 'microphone']\n",
            "['webcam', 'keyboard', 'webcam']\n",
            "['controller', 'controller', 'keyboard']\n",
            "['microphone', 'microphone', 'webcam']\n",
            "['microphone', 'controller', 'webcam']\n",
            "['webcam', 'headset', 'controller']\n",
            "['controller', 'headset', 'microphone']\n",
            "['headset', 'keyboard', 'webcam']\n",
            "['headset', 'mouse', 'webcam']\n",
            "['headset', 'controller', 'headset']\n",
            "['webcam', 'controller', 'mouse']\n",
            "['controller', 'mouse', 'webcam']\n",
            "['mouse', 'keyboard', 'keyboard']\n",
            "['webcam', 'keyboard', 'webcam']\n",
            "['microphone', 'mouse', 'webcam']\n",
            "['microphone', 'headset', 'keyboard']\n",
            "['controller', 'microphone', 'webcam']\n",
            "['keyboard', 'headset', 'controller']\n",
            "['keyboard', 'headset', 'controller']\n",
            "['headset', 'controller', 'keyboard']\n",
            "['microphone', 'mouse', 'microphone']\n",
            "['webcam', 'keyboard', 'mouse']\n",
            "['keyboard', 'headset', 'microphone']\n",
            "['webcam', 'webcam', 'headset']\n",
            "['mouse', 'headset', 'controller']\n",
            "['controller', 'controller', 'microphone']\n",
            "['mouse', 'webcam', 'controller']\n",
            "['microphone', 'keyboard', 'headset']\n",
            "['headset', 'keyboard', 'mouse']\n",
            "['keyboard', 'controller', 'webcam']\n",
            "['keyboard', 'mouse', 'headset']\n",
            "['keyboard', 'headset', 'microphone']\n",
            "['mouse', 'mouse', 'mouse']\n",
            "['controller', 'headset', 'mouse']\n",
            "['keyboard', 'webcam', 'keyboard']\n",
            "['headset', 'mouse', 'keyboard']\n",
            "['webcam', 'mouse', 'keyboard']\n",
            "['microphone', 'keyboard', 'headset']\n",
            "['mouse', 'mouse', 'keyboard']\n",
            "['controller', 'controller', 'keyboard']\n",
            "['headset', 'headset', 'keyboard']\n",
            "['keyboard', 'headset', 'mouse']\n",
            "['headset', 'controller', 'webcam']\n",
            "['keyboard', 'microphone', 'webcam']\n",
            "['microphone', 'headset', 'headset']\n",
            "['webcam', 'keyboard', 'microphone']\n",
            "['mouse', 'controller', 'keyboard']\n",
            "['controller', 'keyboard', 'controller']\n",
            "['webcam', 'headset', 'controller']\n",
            "['headset', 'mouse', 'keyboard']\n",
            "['microphone', 'mouse', 'controller']\n",
            "['microphone', 'mouse', 'controller']\n",
            "['webcam', 'microphone', 'controller']\n",
            "['webcam', 'keyboard', 'microphone']\n",
            "['controller', 'mouse', 'headset']\n",
            "['webcam', 'mouse', 'mouse']\n",
            "['webcam', 'keyboard', 'microphone']\n",
            "['controller', 'microphone', 'microphone']\n",
            "['keyboard', 'mouse', 'mouse']\n",
            "['controller', 'keyboard', 'webcam']\n",
            "['webcam', 'webcam', 'webcam']\n",
            "['webcam', 'keyboard', 'webcam']\n"
          ]
        },
        {
          "output_type": "execute_result",
          "data": {
            "text/plain": [
              "     customer_ID   age    country  gender                      items_bought  \\\n",
              "0              1  40.0      Spain    male             keyboard webcam mouse   \n",
              "1              2  23.0     Sweden    male          headset mouse microphone   \n",
              "2              3  32.0  Australia  female           webcam mouse controller   \n",
              "3              4  36.0        USA    male     microphone microphone headset   \n",
              "4              5  27.0         UK    male       microphone mouse controller   \n",
              "..           ...   ...        ...     ...                               ...   \n",
              "97            96  22.0     Sweden  female  controller microphone microphone   \n",
              "98            97  49.0     Sweden    male              keyboard mouse mouse   \n",
              "99            98  39.0     Canada    male        controller keyboard webcam   \n",
              "100           99  43.0     Canada    male              webcam webcam webcam   \n",
              "101          100  30.0        USA    male            webcam keyboard webcam   \n",
              "\n",
              "       payment_method delivered       0         1       2  \n",
              "0    cash on delivery      late  webcam  keyboard  webcam  \n",
              "1    cash on delivery   on time  webcam  keyboard  webcam  \n",
              "2         credit card      late  webcam  keyboard  webcam  \n",
              "3    cash on delivery      late  webcam  keyboard  webcam  \n",
              "4    cash on delivery   on time  webcam  keyboard  webcam  \n",
              "..                ...       ...     ...       ...     ...  \n",
              "97   cash on delivery      late  webcam  keyboard  webcam  \n",
              "98        credit card   on time  webcam  keyboard  webcam  \n",
              "99        credit card   on time  webcam  keyboard  webcam  \n",
              "100       credit card      late  webcam  keyboard  webcam  \n",
              "101       credit card      late  webcam  keyboard  webcam  \n",
              "\n",
              "[102 rows x 10 columns]"
            ],
            "text/html": [
              "\n",
              "  <div id=\"df-239332a6-33a0-4522-8985-4b0e3a7e76c7\">\n",
              "    <div class=\"colab-df-container\">\n",
              "      <div>\n",
              "<style scoped>\n",
              "    .dataframe tbody tr th:only-of-type {\n",
              "        vertical-align: middle;\n",
              "    }\n",
              "\n",
              "    .dataframe tbody tr th {\n",
              "        vertical-align: top;\n",
              "    }\n",
              "\n",
              "    .dataframe thead th {\n",
              "        text-align: right;\n",
              "    }\n",
              "</style>\n",
              "<table border=\"1\" class=\"dataframe\">\n",
              "  <thead>\n",
              "    <tr style=\"text-align: right;\">\n",
              "      <th></th>\n",
              "      <th>customer_ID</th>\n",
              "      <th>age</th>\n",
              "      <th>country</th>\n",
              "      <th>gender</th>\n",
              "      <th>items_bought</th>\n",
              "      <th>payment_method</th>\n",
              "      <th>delivered</th>\n",
              "      <th>0</th>\n",
              "      <th>1</th>\n",
              "      <th>2</th>\n",
              "    </tr>\n",
              "  </thead>\n",
              "  <tbody>\n",
              "    <tr>\n",
              "      <th>0</th>\n",
              "      <td>1</td>\n",
              "      <td>40.0</td>\n",
              "      <td>Spain</td>\n",
              "      <td>male</td>\n",
              "      <td>keyboard webcam mouse</td>\n",
              "      <td>cash on delivery</td>\n",
              "      <td>late</td>\n",
              "      <td>webcam</td>\n",
              "      <td>keyboard</td>\n",
              "      <td>webcam</td>\n",
              "    </tr>\n",
              "    <tr>\n",
              "      <th>1</th>\n",
              "      <td>2</td>\n",
              "      <td>23.0</td>\n",
              "      <td>Sweden</td>\n",
              "      <td>male</td>\n",
              "      <td>headset mouse microphone</td>\n",
              "      <td>cash on delivery</td>\n",
              "      <td>on time</td>\n",
              "      <td>webcam</td>\n",
              "      <td>keyboard</td>\n",
              "      <td>webcam</td>\n",
              "    </tr>\n",
              "    <tr>\n",
              "      <th>2</th>\n",
              "      <td>3</td>\n",
              "      <td>32.0</td>\n",
              "      <td>Australia</td>\n",
              "      <td>female</td>\n",
              "      <td>webcam mouse controller</td>\n",
              "      <td>credit card</td>\n",
              "      <td>late</td>\n",
              "      <td>webcam</td>\n",
              "      <td>keyboard</td>\n",
              "      <td>webcam</td>\n",
              "    </tr>\n",
              "    <tr>\n",
              "      <th>3</th>\n",
              "      <td>4</td>\n",
              "      <td>36.0</td>\n",
              "      <td>USA</td>\n",
              "      <td>male</td>\n",
              "      <td>microphone microphone headset</td>\n",
              "      <td>cash on delivery</td>\n",
              "      <td>late</td>\n",
              "      <td>webcam</td>\n",
              "      <td>keyboard</td>\n",
              "      <td>webcam</td>\n",
              "    </tr>\n",
              "    <tr>\n",
              "      <th>4</th>\n",
              "      <td>5</td>\n",
              "      <td>27.0</td>\n",
              "      <td>UK</td>\n",
              "      <td>male</td>\n",
              "      <td>microphone mouse controller</td>\n",
              "      <td>cash on delivery</td>\n",
              "      <td>on time</td>\n",
              "      <td>webcam</td>\n",
              "      <td>keyboard</td>\n",
              "      <td>webcam</td>\n",
              "    </tr>\n",
              "    <tr>\n",
              "      <th>...</th>\n",
              "      <td>...</td>\n",
              "      <td>...</td>\n",
              "      <td>...</td>\n",
              "      <td>...</td>\n",
              "      <td>...</td>\n",
              "      <td>...</td>\n",
              "      <td>...</td>\n",
              "      <td>...</td>\n",
              "      <td>...</td>\n",
              "      <td>...</td>\n",
              "    </tr>\n",
              "    <tr>\n",
              "      <th>97</th>\n",
              "      <td>96</td>\n",
              "      <td>22.0</td>\n",
              "      <td>Sweden</td>\n",
              "      <td>female</td>\n",
              "      <td>controller microphone microphone</td>\n",
              "      <td>cash on delivery</td>\n",
              "      <td>late</td>\n",
              "      <td>webcam</td>\n",
              "      <td>keyboard</td>\n",
              "      <td>webcam</td>\n",
              "    </tr>\n",
              "    <tr>\n",
              "      <th>98</th>\n",
              "      <td>97</td>\n",
              "      <td>49.0</td>\n",
              "      <td>Sweden</td>\n",
              "      <td>male</td>\n",
              "      <td>keyboard mouse mouse</td>\n",
              "      <td>credit card</td>\n",
              "      <td>on time</td>\n",
              "      <td>webcam</td>\n",
              "      <td>keyboard</td>\n",
              "      <td>webcam</td>\n",
              "    </tr>\n",
              "    <tr>\n",
              "      <th>99</th>\n",
              "      <td>98</td>\n",
              "      <td>39.0</td>\n",
              "      <td>Canada</td>\n",
              "      <td>male</td>\n",
              "      <td>controller keyboard webcam</td>\n",
              "      <td>credit card</td>\n",
              "      <td>on time</td>\n",
              "      <td>webcam</td>\n",
              "      <td>keyboard</td>\n",
              "      <td>webcam</td>\n",
              "    </tr>\n",
              "    <tr>\n",
              "      <th>100</th>\n",
              "      <td>99</td>\n",
              "      <td>43.0</td>\n",
              "      <td>Canada</td>\n",
              "      <td>male</td>\n",
              "      <td>webcam webcam webcam</td>\n",
              "      <td>credit card</td>\n",
              "      <td>late</td>\n",
              "      <td>webcam</td>\n",
              "      <td>keyboard</td>\n",
              "      <td>webcam</td>\n",
              "    </tr>\n",
              "    <tr>\n",
              "      <th>101</th>\n",
              "      <td>100</td>\n",
              "      <td>30.0</td>\n",
              "      <td>USA</td>\n",
              "      <td>male</td>\n",
              "      <td>webcam keyboard webcam</td>\n",
              "      <td>credit card</td>\n",
              "      <td>late</td>\n",
              "      <td>webcam</td>\n",
              "      <td>keyboard</td>\n",
              "      <td>webcam</td>\n",
              "    </tr>\n",
              "  </tbody>\n",
              "</table>\n",
              "<p>102 rows × 10 columns</p>\n",
              "</div>\n",
              "      <button class=\"colab-df-convert\" onclick=\"convertToInteractive('df-239332a6-33a0-4522-8985-4b0e3a7e76c7')\"\n",
              "              title=\"Convert this dataframe to an interactive table.\"\n",
              "              style=\"display:none;\">\n",
              "        \n",
              "  <svg xmlns=\"http://www.w3.org/2000/svg\" height=\"24px\"viewBox=\"0 0 24 24\"\n",
              "       width=\"24px\">\n",
              "    <path d=\"M0 0h24v24H0V0z\" fill=\"none\"/>\n",
              "    <path d=\"M18.56 5.44l.94 2.06.94-2.06 2.06-.94-2.06-.94-.94-2.06-.94 2.06-2.06.94zm-11 1L8.5 8.5l.94-2.06 2.06-.94-2.06-.94L8.5 2.5l-.94 2.06-2.06.94zm10 10l.94 2.06.94-2.06 2.06-.94-2.06-.94-.94-2.06-.94 2.06-2.06.94z\"/><path d=\"M17.41 7.96l-1.37-1.37c-.4-.4-.92-.59-1.43-.59-.52 0-1.04.2-1.43.59L10.3 9.45l-7.72 7.72c-.78.78-.78 2.05 0 2.83L4 21.41c.39.39.9.59 1.41.59.51 0 1.02-.2 1.41-.59l7.78-7.78 2.81-2.81c.8-.78.8-2.07 0-2.86zM5.41 20L4 18.59l7.72-7.72 1.47 1.35L5.41 20z\"/>\n",
              "  </svg>\n",
              "      </button>\n",
              "      \n",
              "  <style>\n",
              "    .colab-df-container {\n",
              "      display:flex;\n",
              "      flex-wrap:wrap;\n",
              "      gap: 12px;\n",
              "    }\n",
              "\n",
              "    .colab-df-convert {\n",
              "      background-color: #E8F0FE;\n",
              "      border: none;\n",
              "      border-radius: 50%;\n",
              "      cursor: pointer;\n",
              "      display: none;\n",
              "      fill: #1967D2;\n",
              "      height: 32px;\n",
              "      padding: 0 0 0 0;\n",
              "      width: 32px;\n",
              "    }\n",
              "\n",
              "    .colab-df-convert:hover {\n",
              "      background-color: #E2EBFA;\n",
              "      box-shadow: 0px 1px 2px rgba(60, 64, 67, 0.3), 0px 1px 3px 1px rgba(60, 64, 67, 0.15);\n",
              "      fill: #174EA6;\n",
              "    }\n",
              "\n",
              "    [theme=dark] .colab-df-convert {\n",
              "      background-color: #3B4455;\n",
              "      fill: #D2E3FC;\n",
              "    }\n",
              "\n",
              "    [theme=dark] .colab-df-convert:hover {\n",
              "      background-color: #434B5C;\n",
              "      box-shadow: 0px 1px 3px 1px rgba(0, 0, 0, 0.15);\n",
              "      filter: drop-shadow(0px 1px 2px rgba(0, 0, 0, 0.3));\n",
              "      fill: #FFFFFF;\n",
              "    }\n",
              "  </style>\n",
              "\n",
              "      <script>\n",
              "        const buttonEl =\n",
              "          document.querySelector('#df-239332a6-33a0-4522-8985-4b0e3a7e76c7 button.colab-df-convert');\n",
              "        buttonEl.style.display =\n",
              "          google.colab.kernel.accessAllowed ? 'block' : 'none';\n",
              "\n",
              "        async function convertToInteractive(key) {\n",
              "          const element = document.querySelector('#df-239332a6-33a0-4522-8985-4b0e3a7e76c7');\n",
              "          const dataTable =\n",
              "            await google.colab.kernel.invokeFunction('convertToInteractive',\n",
              "                                                     [key], {});\n",
              "          if (!dataTable) return;\n",
              "\n",
              "          const docLinkHtml = 'Like what you see? Visit the ' +\n",
              "            '<a target=\"_blank\" href=https://colab.research.google.com/notebooks/data_table.ipynb>data table notebook</a>'\n",
              "            + ' to learn more about interactive tables.';\n",
              "          element.innerHTML = '';\n",
              "          dataTable['output_type'] = 'display_data';\n",
              "          await google.colab.output.renderOutput(dataTable, element);\n",
              "          const docLink = document.createElement('div');\n",
              "          docLink.innerHTML = docLinkHtml;\n",
              "          element.appendChild(docLink);\n",
              "        }\n",
              "      </script>\n",
              "    </div>\n",
              "  </div>\n",
              "  "
            ]
          },
          "metadata": {},
          "execution_count": 22
        }
      ]
    },
    {
      "cell_type": "code",
      "source": [
        "cus = cus['items_bought'].str.split(' ')\n",
        "yus = [j for i in cus for j in i]\n",
        "for i in cus:\n",
        "  for j in i:\n",
        "dif = []\n",
        "for x in yus:\n",
        "  if x not in dif:\n",
        "    dif.append(x)\n",
        "for i in dif:\n",
        "  print(i)\n",
        "  print(yus.count(i))\n",
        "  cus.max()\n"
      ],
      "metadata": {
        "id": "vVwq0gVQllob"
      },
      "execution_count": null,
      "outputs": []
    },
    {
      "cell_type": "code",
      "source": [],
      "metadata": {
        "id": "iRT2vPNpCGQK"
      },
      "execution_count": null,
      "outputs": []
    },
    {
      "cell_type": "code",
      "source": [
        "display(cus)"
      ],
      "metadata": {
        "id": "o8-hQPSDq6-T",
        "outputId": "c39fa44e-1433-43c2-e1b7-2132cc7f27ea",
        "colab": {
          "base_uri": "https://localhost:8080/",
          "height": 225
        }
      },
      "execution_count": null,
      "outputs": [
        {
          "output_type": "display_data",
          "data": {
            "text/plain": [
              "0                 [keyboard, webcam, mouse]\n",
              "1              [headset, mouse, microphone]\n",
              "2               [webcam, mouse, controller]\n",
              "3         [microphone, microphone, headset]\n",
              "4           [microphone, mouse, controller]\n",
              "                       ...                 \n",
              "97     [controller, microphone, microphone]\n",
              "98                 [keyboard, mouse, mouse]\n",
              "99           [controller, keyboard, webcam]\n",
              "100                [webcam, webcam, webcam]\n",
              "101              [webcam, keyboard, webcam]\n",
              "Name: items_bought, Length: 102, dtype: object"
            ]
          },
          "metadata": {}
        }
      ]
    },
    {
      "cell_type": "code",
      "source": [
        "cus.isna().any()"
      ],
      "metadata": {
        "colab": {
          "base_uri": "https://localhost:8080/"
        },
        "id": "J3BsYfhZZJdI",
        "outputId": "e455aeae-3792-4e7e-cfa1-8b5fb421a748"
      },
      "execution_count": null,
      "outputs": [
        {
          "output_type": "execute_result",
          "data": {
            "text/plain": [
              "customer_ID       False\n",
              "age                True\n",
              "country           False\n",
              "gender             True\n",
              "items_bought      False\n",
              "payment_method     True\n",
              "delivered          True\n",
              "dtype: bool"
            ]
          },
          "metadata": {},
          "execution_count": 66
        }
      ]
    },
    {
      "cell_type": "markdown",
      "source": [
        "#fill numerical values with mean"
      ],
      "metadata": {
        "id": "7ZQH0dX1a-6y"
      }
    },
    {
      "cell_type": "code",
      "source": [
        "mean_value = cus['age'].mean()\n",
        "cus['age'].fillna(value=mean_value,inplace=True)"
      ],
      "metadata": {
        "id": "9Q6ELM07Zcm4"
      },
      "execution_count": null,
      "outputs": []
    },
    {
      "cell_type": "markdown",
      "source": [
        "#drop non-numerical with missing values\n"
      ],
      "metadata": {
        "id": "suZimxvdbN-q"
      }
    },
    {
      "cell_type": "code",
      "source": [
        "cus = cus.dropna()\n",
        "display(cus)\n"
      ],
      "metadata": {
        "colab": {
          "base_uri": "https://localhost:8080/",
          "height": 423
        },
        "id": "NkFDG0EIbMDI",
        "outputId": "dde12266-c6d3-4c91-8df5-3958525d113a"
      },
      "execution_count": null,
      "outputs": [
        {
          "output_type": "display_data",
          "data": {
            "text/plain": [
              "     customer_ID   age    country  gender                      items_bought  \\\n",
              "0              1  40.0      Spain    male             keyboard webcam mouse   \n",
              "1              2  23.0     Sweden    male          headset mouse microphone   \n",
              "2              3  32.0  Australia  female           webcam mouse controller   \n",
              "3              4  36.0        USA    male     microphone microphone headset   \n",
              "4              5  27.0         UK    male       microphone mouse controller   \n",
              "..           ...   ...        ...     ...                               ...   \n",
              "97            96  22.0     Sweden  female  controller microphone microphone   \n",
              "98            97  49.0     Sweden    male              keyboard mouse mouse   \n",
              "99            98  39.0     Canada    male        controller keyboard webcam   \n",
              "100           99  43.0     Canada    male              webcam webcam webcam   \n",
              "101          100  30.0        USA    male            webcam keyboard webcam   \n",
              "\n",
              "       payment_method delivered  \n",
              "0    cash on delivery      late  \n",
              "1    cash on delivery   on time  \n",
              "2         credit card      late  \n",
              "3    cash on delivery      late  \n",
              "4    cash on delivery   on time  \n",
              "..                ...       ...  \n",
              "97   cash on delivery      late  \n",
              "98        credit card   on time  \n",
              "99        credit card   on time  \n",
              "100       credit card      late  \n",
              "101       credit card      late  \n",
              "\n",
              "[99 rows x 7 columns]"
            ],
            "text/html": [
              "\n",
              "  <div id=\"df-7f5f237c-e2a7-4da9-81bc-22b13df99b95\">\n",
              "    <div class=\"colab-df-container\">\n",
              "      <div>\n",
              "<style scoped>\n",
              "    .dataframe tbody tr th:only-of-type {\n",
              "        vertical-align: middle;\n",
              "    }\n",
              "\n",
              "    .dataframe tbody tr th {\n",
              "        vertical-align: top;\n",
              "    }\n",
              "\n",
              "    .dataframe thead th {\n",
              "        text-align: right;\n",
              "    }\n",
              "</style>\n",
              "<table border=\"1\" class=\"dataframe\">\n",
              "  <thead>\n",
              "    <tr style=\"text-align: right;\">\n",
              "      <th></th>\n",
              "      <th>customer_ID</th>\n",
              "      <th>age</th>\n",
              "      <th>country</th>\n",
              "      <th>gender</th>\n",
              "      <th>items_bought</th>\n",
              "      <th>payment_method</th>\n",
              "      <th>delivered</th>\n",
              "    </tr>\n",
              "  </thead>\n",
              "  <tbody>\n",
              "    <tr>\n",
              "      <th>0</th>\n",
              "      <td>1</td>\n",
              "      <td>40.0</td>\n",
              "      <td>Spain</td>\n",
              "      <td>male</td>\n",
              "      <td>keyboard webcam mouse</td>\n",
              "      <td>cash on delivery</td>\n",
              "      <td>late</td>\n",
              "    </tr>\n",
              "    <tr>\n",
              "      <th>1</th>\n",
              "      <td>2</td>\n",
              "      <td>23.0</td>\n",
              "      <td>Sweden</td>\n",
              "      <td>male</td>\n",
              "      <td>headset mouse microphone</td>\n",
              "      <td>cash on delivery</td>\n",
              "      <td>on time</td>\n",
              "    </tr>\n",
              "    <tr>\n",
              "      <th>2</th>\n",
              "      <td>3</td>\n",
              "      <td>32.0</td>\n",
              "      <td>Australia</td>\n",
              "      <td>female</td>\n",
              "      <td>webcam mouse controller</td>\n",
              "      <td>credit card</td>\n",
              "      <td>late</td>\n",
              "    </tr>\n",
              "    <tr>\n",
              "      <th>3</th>\n",
              "      <td>4</td>\n",
              "      <td>36.0</td>\n",
              "      <td>USA</td>\n",
              "      <td>male</td>\n",
              "      <td>microphone microphone headset</td>\n",
              "      <td>cash on delivery</td>\n",
              "      <td>late</td>\n",
              "    </tr>\n",
              "    <tr>\n",
              "      <th>4</th>\n",
              "      <td>5</td>\n",
              "      <td>27.0</td>\n",
              "      <td>UK</td>\n",
              "      <td>male</td>\n",
              "      <td>microphone mouse controller</td>\n",
              "      <td>cash on delivery</td>\n",
              "      <td>on time</td>\n",
              "    </tr>\n",
              "    <tr>\n",
              "      <th>...</th>\n",
              "      <td>...</td>\n",
              "      <td>...</td>\n",
              "      <td>...</td>\n",
              "      <td>...</td>\n",
              "      <td>...</td>\n",
              "      <td>...</td>\n",
              "      <td>...</td>\n",
              "    </tr>\n",
              "    <tr>\n",
              "      <th>97</th>\n",
              "      <td>96</td>\n",
              "      <td>22.0</td>\n",
              "      <td>Sweden</td>\n",
              "      <td>female</td>\n",
              "      <td>controller microphone microphone</td>\n",
              "      <td>cash on delivery</td>\n",
              "      <td>late</td>\n",
              "    </tr>\n",
              "    <tr>\n",
              "      <th>98</th>\n",
              "      <td>97</td>\n",
              "      <td>49.0</td>\n",
              "      <td>Sweden</td>\n",
              "      <td>male</td>\n",
              "      <td>keyboard mouse mouse</td>\n",
              "      <td>credit card</td>\n",
              "      <td>on time</td>\n",
              "    </tr>\n",
              "    <tr>\n",
              "      <th>99</th>\n",
              "      <td>98</td>\n",
              "      <td>39.0</td>\n",
              "      <td>Canada</td>\n",
              "      <td>male</td>\n",
              "      <td>controller keyboard webcam</td>\n",
              "      <td>credit card</td>\n",
              "      <td>on time</td>\n",
              "    </tr>\n",
              "    <tr>\n",
              "      <th>100</th>\n",
              "      <td>99</td>\n",
              "      <td>43.0</td>\n",
              "      <td>Canada</td>\n",
              "      <td>male</td>\n",
              "      <td>webcam webcam webcam</td>\n",
              "      <td>credit card</td>\n",
              "      <td>late</td>\n",
              "    </tr>\n",
              "    <tr>\n",
              "      <th>101</th>\n",
              "      <td>100</td>\n",
              "      <td>30.0</td>\n",
              "      <td>USA</td>\n",
              "      <td>male</td>\n",
              "      <td>webcam keyboard webcam</td>\n",
              "      <td>credit card</td>\n",
              "      <td>late</td>\n",
              "    </tr>\n",
              "  </tbody>\n",
              "</table>\n",
              "<p>99 rows × 7 columns</p>\n",
              "</div>\n",
              "      <button class=\"colab-df-convert\" onclick=\"convertToInteractive('df-7f5f237c-e2a7-4da9-81bc-22b13df99b95')\"\n",
              "              title=\"Convert this dataframe to an interactive table.\"\n",
              "              style=\"display:none;\">\n",
              "        \n",
              "  <svg xmlns=\"http://www.w3.org/2000/svg\" height=\"24px\"viewBox=\"0 0 24 24\"\n",
              "       width=\"24px\">\n",
              "    <path d=\"M0 0h24v24H0V0z\" fill=\"none\"/>\n",
              "    <path d=\"M18.56 5.44l.94 2.06.94-2.06 2.06-.94-2.06-.94-.94-2.06-.94 2.06-2.06.94zm-11 1L8.5 8.5l.94-2.06 2.06-.94-2.06-.94L8.5 2.5l-.94 2.06-2.06.94zm10 10l.94 2.06.94-2.06 2.06-.94-2.06-.94-.94-2.06-.94 2.06-2.06.94z\"/><path d=\"M17.41 7.96l-1.37-1.37c-.4-.4-.92-.59-1.43-.59-.52 0-1.04.2-1.43.59L10.3 9.45l-7.72 7.72c-.78.78-.78 2.05 0 2.83L4 21.41c.39.39.9.59 1.41.59.51 0 1.02-.2 1.41-.59l7.78-7.78 2.81-2.81c.8-.78.8-2.07 0-2.86zM5.41 20L4 18.59l7.72-7.72 1.47 1.35L5.41 20z\"/>\n",
              "  </svg>\n",
              "      </button>\n",
              "      \n",
              "  <style>\n",
              "    .colab-df-container {\n",
              "      display:flex;\n",
              "      flex-wrap:wrap;\n",
              "      gap: 12px;\n",
              "    }\n",
              "\n",
              "    .colab-df-convert {\n",
              "      background-color: #E8F0FE;\n",
              "      border: none;\n",
              "      border-radius: 50%;\n",
              "      cursor: pointer;\n",
              "      display: none;\n",
              "      fill: #1967D2;\n",
              "      height: 32px;\n",
              "      padding: 0 0 0 0;\n",
              "      width: 32px;\n",
              "    }\n",
              "\n",
              "    .colab-df-convert:hover {\n",
              "      background-color: #E2EBFA;\n",
              "      box-shadow: 0px 1px 2px rgba(60, 64, 67, 0.3), 0px 1px 3px 1px rgba(60, 64, 67, 0.15);\n",
              "      fill: #174EA6;\n",
              "    }\n",
              "\n",
              "    [theme=dark] .colab-df-convert {\n",
              "      background-color: #3B4455;\n",
              "      fill: #D2E3FC;\n",
              "    }\n",
              "\n",
              "    [theme=dark] .colab-df-convert:hover {\n",
              "      background-color: #434B5C;\n",
              "      box-shadow: 0px 1px 3px 1px rgba(0, 0, 0, 0.15);\n",
              "      filter: drop-shadow(0px 1px 2px rgba(0, 0, 0, 0.3));\n",
              "      fill: #FFFFFF;\n",
              "    }\n",
              "  </style>\n",
              "\n",
              "      <script>\n",
              "        const buttonEl =\n",
              "          document.querySelector('#df-7f5f237c-e2a7-4da9-81bc-22b13df99b95 button.colab-df-convert');\n",
              "        buttonEl.style.display =\n",
              "          google.colab.kernel.accessAllowed ? 'block' : 'none';\n",
              "\n",
              "        async function convertToInteractive(key) {\n",
              "          const element = document.querySelector('#df-7f5f237c-e2a7-4da9-81bc-22b13df99b95');\n",
              "          const dataTable =\n",
              "            await google.colab.kernel.invokeFunction('convertToInteractive',\n",
              "                                                     [key], {});\n",
              "          if (!dataTable) return;\n",
              "\n",
              "          const docLinkHtml = 'Like what you see? Visit the ' +\n",
              "            '<a target=\"_blank\" href=https://colab.research.google.com/notebooks/data_table.ipynb>data table notebook</a>'\n",
              "            + ' to learn more about interactive tables.';\n",
              "          element.innerHTML = '';\n",
              "          dataTable['output_type'] = 'display_data';\n",
              "          await google.colab.output.renderOutput(dataTable, element);\n",
              "          const docLink = document.createElement('div');\n",
              "          docLink.innerHTML = docLinkHtml;\n",
              "          element.appendChild(docLink);\n",
              "        }\n",
              "      </script>\n",
              "    </div>\n",
              "  </div>\n",
              "  "
            ]
          },
          "metadata": {}
        }
      ]
    },
    {
      "cell_type": "code",
      "source": [
        "cus.duplicated()"
      ],
      "metadata": {
        "colab": {
          "base_uri": "https://localhost:8080/"
        },
        "id": "FWekAyitcDUo",
        "outputId": "a3e8f1a7-5e7d-4fba-b9fa-59f0b14b9753"
      },
      "execution_count": null,
      "outputs": [
        {
          "output_type": "execute_result",
          "data": {
            "text/plain": [
              "0      False\n",
              "1      False\n",
              "2      False\n",
              "3      False\n",
              "4      False\n",
              "       ...  \n",
              "97     False\n",
              "98     False\n",
              "99     False\n",
              "100    False\n",
              "101    False\n",
              "Length: 99, dtype: bool"
            ]
          },
          "metadata": {},
          "execution_count": 35
        }
      ]
    },
    {
      "cell_type": "code",
      "source": [
        "cus = cus.drop_duplicates()\n",
        "display(cus)"
      ],
      "metadata": {
        "colab": {
          "base_uri": "https://localhost:8080/",
          "height": 423
        },
        "id": "Za5FW8wxczx4",
        "outputId": "c4d3be2f-41d6-439c-8eb4-34cc61c68253"
      },
      "execution_count": null,
      "outputs": [
        {
          "output_type": "display_data",
          "data": {
            "text/plain": [
              "     customer_ID   age    country  gender                      items_bought  \\\n",
              "0              1  40.0      Spain    male             keyboard webcam mouse   \n",
              "1              2  23.0     Sweden    male          headset mouse microphone   \n",
              "2              3  32.0  Australia  female           webcam mouse controller   \n",
              "3              4  36.0        USA    male     microphone microphone headset   \n",
              "4              5  27.0         UK    male       microphone mouse controller   \n",
              "..           ...   ...        ...     ...                               ...   \n",
              "97            96  22.0     Sweden  female  controller microphone microphone   \n",
              "98            97  49.0     Sweden    male              keyboard mouse mouse   \n",
              "99            98  39.0     Canada    male        controller keyboard webcam   \n",
              "100           99  43.0     Canada    male              webcam webcam webcam   \n",
              "101          100  30.0        USA    male            webcam keyboard webcam   \n",
              "\n",
              "       payment_method delivered  \n",
              "0    cash on delivery      late  \n",
              "1    cash on delivery   on time  \n",
              "2         credit card      late  \n",
              "3    cash on delivery      late  \n",
              "4    cash on delivery   on time  \n",
              "..                ...       ...  \n",
              "97   cash on delivery      late  \n",
              "98        credit card   on time  \n",
              "99        credit card   on time  \n",
              "100       credit card      late  \n",
              "101       credit card      late  \n",
              "\n",
              "[97 rows x 7 columns]"
            ],
            "text/html": [
              "\n",
              "  <div id=\"df-90a38793-40dc-4e36-9189-c5f4c729961c\">\n",
              "    <div class=\"colab-df-container\">\n",
              "      <div>\n",
              "<style scoped>\n",
              "    .dataframe tbody tr th:only-of-type {\n",
              "        vertical-align: middle;\n",
              "    }\n",
              "\n",
              "    .dataframe tbody tr th {\n",
              "        vertical-align: top;\n",
              "    }\n",
              "\n",
              "    .dataframe thead th {\n",
              "        text-align: right;\n",
              "    }\n",
              "</style>\n",
              "<table border=\"1\" class=\"dataframe\">\n",
              "  <thead>\n",
              "    <tr style=\"text-align: right;\">\n",
              "      <th></th>\n",
              "      <th>customer_ID</th>\n",
              "      <th>age</th>\n",
              "      <th>country</th>\n",
              "      <th>gender</th>\n",
              "      <th>items_bought</th>\n",
              "      <th>payment_method</th>\n",
              "      <th>delivered</th>\n",
              "    </tr>\n",
              "  </thead>\n",
              "  <tbody>\n",
              "    <tr>\n",
              "      <th>0</th>\n",
              "      <td>1</td>\n",
              "      <td>40.0</td>\n",
              "      <td>Spain</td>\n",
              "      <td>male</td>\n",
              "      <td>keyboard webcam mouse</td>\n",
              "      <td>cash on delivery</td>\n",
              "      <td>late</td>\n",
              "    </tr>\n",
              "    <tr>\n",
              "      <th>1</th>\n",
              "      <td>2</td>\n",
              "      <td>23.0</td>\n",
              "      <td>Sweden</td>\n",
              "      <td>male</td>\n",
              "      <td>headset mouse microphone</td>\n",
              "      <td>cash on delivery</td>\n",
              "      <td>on time</td>\n",
              "    </tr>\n",
              "    <tr>\n",
              "      <th>2</th>\n",
              "      <td>3</td>\n",
              "      <td>32.0</td>\n",
              "      <td>Australia</td>\n",
              "      <td>female</td>\n",
              "      <td>webcam mouse controller</td>\n",
              "      <td>credit card</td>\n",
              "      <td>late</td>\n",
              "    </tr>\n",
              "    <tr>\n",
              "      <th>3</th>\n",
              "      <td>4</td>\n",
              "      <td>36.0</td>\n",
              "      <td>USA</td>\n",
              "      <td>male</td>\n",
              "      <td>microphone microphone headset</td>\n",
              "      <td>cash on delivery</td>\n",
              "      <td>late</td>\n",
              "    </tr>\n",
              "    <tr>\n",
              "      <th>4</th>\n",
              "      <td>5</td>\n",
              "      <td>27.0</td>\n",
              "      <td>UK</td>\n",
              "      <td>male</td>\n",
              "      <td>microphone mouse controller</td>\n",
              "      <td>cash on delivery</td>\n",
              "      <td>on time</td>\n",
              "    </tr>\n",
              "    <tr>\n",
              "      <th>...</th>\n",
              "      <td>...</td>\n",
              "      <td>...</td>\n",
              "      <td>...</td>\n",
              "      <td>...</td>\n",
              "      <td>...</td>\n",
              "      <td>...</td>\n",
              "      <td>...</td>\n",
              "    </tr>\n",
              "    <tr>\n",
              "      <th>97</th>\n",
              "      <td>96</td>\n",
              "      <td>22.0</td>\n",
              "      <td>Sweden</td>\n",
              "      <td>female</td>\n",
              "      <td>controller microphone microphone</td>\n",
              "      <td>cash on delivery</td>\n",
              "      <td>late</td>\n",
              "    </tr>\n",
              "    <tr>\n",
              "      <th>98</th>\n",
              "      <td>97</td>\n",
              "      <td>49.0</td>\n",
              "      <td>Sweden</td>\n",
              "      <td>male</td>\n",
              "      <td>keyboard mouse mouse</td>\n",
              "      <td>credit card</td>\n",
              "      <td>on time</td>\n",
              "    </tr>\n",
              "    <tr>\n",
              "      <th>99</th>\n",
              "      <td>98</td>\n",
              "      <td>39.0</td>\n",
              "      <td>Canada</td>\n",
              "      <td>male</td>\n",
              "      <td>controller keyboard webcam</td>\n",
              "      <td>credit card</td>\n",
              "      <td>on time</td>\n",
              "    </tr>\n",
              "    <tr>\n",
              "      <th>100</th>\n",
              "      <td>99</td>\n",
              "      <td>43.0</td>\n",
              "      <td>Canada</td>\n",
              "      <td>male</td>\n",
              "      <td>webcam webcam webcam</td>\n",
              "      <td>credit card</td>\n",
              "      <td>late</td>\n",
              "    </tr>\n",
              "    <tr>\n",
              "      <th>101</th>\n",
              "      <td>100</td>\n",
              "      <td>30.0</td>\n",
              "      <td>USA</td>\n",
              "      <td>male</td>\n",
              "      <td>webcam keyboard webcam</td>\n",
              "      <td>credit card</td>\n",
              "      <td>late</td>\n",
              "    </tr>\n",
              "  </tbody>\n",
              "</table>\n",
              "<p>97 rows × 7 columns</p>\n",
              "</div>\n",
              "      <button class=\"colab-df-convert\" onclick=\"convertToInteractive('df-90a38793-40dc-4e36-9189-c5f4c729961c')\"\n",
              "              title=\"Convert this dataframe to an interactive table.\"\n",
              "              style=\"display:none;\">\n",
              "        \n",
              "  <svg xmlns=\"http://www.w3.org/2000/svg\" height=\"24px\"viewBox=\"0 0 24 24\"\n",
              "       width=\"24px\">\n",
              "    <path d=\"M0 0h24v24H0V0z\" fill=\"none\"/>\n",
              "    <path d=\"M18.56 5.44l.94 2.06.94-2.06 2.06-.94-2.06-.94-.94-2.06-.94 2.06-2.06.94zm-11 1L8.5 8.5l.94-2.06 2.06-.94-2.06-.94L8.5 2.5l-.94 2.06-2.06.94zm10 10l.94 2.06.94-2.06 2.06-.94-2.06-.94-.94-2.06-.94 2.06-2.06.94z\"/><path d=\"M17.41 7.96l-1.37-1.37c-.4-.4-.92-.59-1.43-.59-.52 0-1.04.2-1.43.59L10.3 9.45l-7.72 7.72c-.78.78-.78 2.05 0 2.83L4 21.41c.39.39.9.59 1.41.59.51 0 1.02-.2 1.41-.59l7.78-7.78 2.81-2.81c.8-.78.8-2.07 0-2.86zM5.41 20L4 18.59l7.72-7.72 1.47 1.35L5.41 20z\"/>\n",
              "  </svg>\n",
              "      </button>\n",
              "      \n",
              "  <style>\n",
              "    .colab-df-container {\n",
              "      display:flex;\n",
              "      flex-wrap:wrap;\n",
              "      gap: 12px;\n",
              "    }\n",
              "\n",
              "    .colab-df-convert {\n",
              "      background-color: #E8F0FE;\n",
              "      border: none;\n",
              "      border-radius: 50%;\n",
              "      cursor: pointer;\n",
              "      display: none;\n",
              "      fill: #1967D2;\n",
              "      height: 32px;\n",
              "      padding: 0 0 0 0;\n",
              "      width: 32px;\n",
              "    }\n",
              "\n",
              "    .colab-df-convert:hover {\n",
              "      background-color: #E2EBFA;\n",
              "      box-shadow: 0px 1px 2px rgba(60, 64, 67, 0.3), 0px 1px 3px 1px rgba(60, 64, 67, 0.15);\n",
              "      fill: #174EA6;\n",
              "    }\n",
              "\n",
              "    [theme=dark] .colab-df-convert {\n",
              "      background-color: #3B4455;\n",
              "      fill: #D2E3FC;\n",
              "    }\n",
              "\n",
              "    [theme=dark] .colab-df-convert:hover {\n",
              "      background-color: #434B5C;\n",
              "      box-shadow: 0px 1px 3px 1px rgba(0, 0, 0, 0.15);\n",
              "      filter: drop-shadow(0px 1px 2px rgba(0, 0, 0, 0.3));\n",
              "      fill: #FFFFFF;\n",
              "    }\n",
              "  </style>\n",
              "\n",
              "      <script>\n",
              "        const buttonEl =\n",
              "          document.querySelector('#df-90a38793-40dc-4e36-9189-c5f4c729961c button.colab-df-convert');\n",
              "        buttonEl.style.display =\n",
              "          google.colab.kernel.accessAllowed ? 'block' : 'none';\n",
              "\n",
              "        async function convertToInteractive(key) {\n",
              "          const element = document.querySelector('#df-90a38793-40dc-4e36-9189-c5f4c729961c');\n",
              "          const dataTable =\n",
              "            await google.colab.kernel.invokeFunction('convertToInteractive',\n",
              "                                                     [key], {});\n",
              "          if (!dataTable) return;\n",
              "\n",
              "          const docLinkHtml = 'Like what you see? Visit the ' +\n",
              "            '<a target=\"_blank\" href=https://colab.research.google.com/notebooks/data_table.ipynb>data table notebook</a>'\n",
              "            + ' to learn more about interactive tables.';\n",
              "          element.innerHTML = '';\n",
              "          dataTable['output_type'] = 'display_data';\n",
              "          await google.colab.output.renderOutput(dataTable, element);\n",
              "          const docLink = document.createElement('div');\n",
              "          docLink.innerHTML = docLinkHtml;\n",
              "          element.appendChild(docLink);\n",
              "        }\n",
              "      </script>\n",
              "    </div>\n",
              "  </div>\n",
              "  "
            ]
          },
          "metadata": {}
        }
      ]
    },
    {
      "cell_type": "markdown",
      "source": [
        "female prfer to pay by cash on delivery"
      ],
      "metadata": {
        "id": "4EjfCNa2lFYB"
      }
    },
    {
      "cell_type": "code",
      "source": [
        "sns.barplot(x=cus[\"payment_method\"], y=cus[\"age\"], hue=cus[\"gender\"])"
      ],
      "metadata": {
        "colab": {
          "base_uri": "https://localhost:8080/",
          "height": 297
        },
        "id": "mpyhKFUPvp0m",
        "outputId": "d202b1ab-8055-42da-bce9-5dac7520aed3"
      },
      "execution_count": null,
      "outputs": [
        {
          "output_type": "execute_result",
          "data": {
            "text/plain": [
              "<Axes: xlabel='payment_method', ylabel='age'>"
            ]
          },
          "metadata": {},
          "execution_count": 83
        },
        {
          "output_type": "display_data",
          "data": {
            "text/plain": [
              "<Figure size 432x288 with 1 Axes>"
            ],
            "image/png": "[encoded data removed]"
          },
          "metadata": {
            "needs_background": "light"
          }
        }
      ]
    },
    {
      "cell_type": "markdown",
      "source": [
        "female prefer cash on delivery"
      ],
      "metadata": {
        "id": "inxKKk5DyTRF"
      }
    },
    {
      "cell_type": "markdown",
      "source": [
        "which country has the most delayed delievery times"
      ],
      "metadata": {
        "id": "kZriZq6nw7Lm"
      }
    },
    {
      "cell_type": "code",
      "source": [
        "cus.groupby('country')['delivered'].count()"
      ],
      "metadata": {
        "colab": {
          "base_uri": "https://localhost:8080/"
        },
        "id": "u0vJkgPq2Wb-",
        "outputId": "1a058587-3a56-4c9f-e32a-c131fb95a7ec"
      },
      "execution_count": null,
      "outputs": [
        {
          "output_type": "execute_result",
          "data": {
            "text/plain": [
              "country\n",
              "Argentina    14\n",
              "Australia     6\n",
              "Canada       14\n",
              "Japan         5\n",
              "Serbia       13\n",
              "Spain        14\n",
              "Sweden       11\n",
              "UK           12\n",
              "USA          10\n",
              "Name: delivered, dtype: int64"
            ]
          },
          "metadata": {},
          "execution_count": 29
        }
      ]
    },
    {
      "cell_type": "markdown",
      "source": [
        "the most two countries (canada,spain,Argentina)"
      ],
      "metadata": {
        "id": "KzDcudYu6MCl"
      }
    },
    {
      "cell_type": "markdown",
      "source": [
        "what is the most bought item?\n"
      ],
      "metadata": {
        "id": "kV3N0kuLyrV-"
      }
    },
    {
      "cell_type": "code",
      "source": [
        "cus['items_bought'].value_counts()"
      ],
      "metadata": {
        "colab": {
          "base_uri": "https://localhost:8080/"
        },
        "id": "_af0j0BHyvsW",
        "outputId": "5dc96d18-3beb-487a-b3ca-864f983f23bc"
      },
      "execution_count": null,
      "outputs": [
        {
          "output_type": "execute_result",
          "data": {
            "text/plain": [
              "webcam keyboard microphone        4\n",
              "webcam keyboard webcam            3\n",
              "controller controller keyboard    2\n",
              "webcam mouse keyboard             2\n",
              "microphone keyboard headset       2\n",
              "                                 ..\n",
              "headset mouse microphone          1\n",
              "microphone microphone webcam      1\n",
              "controller headset microphone     1\n",
              "headset keyboard webcam           1\n",
              "webcam webcam webcam              1\n",
              "Name: items_bought, Length: 77, dtype: int64"
            ]
          },
          "metadata": {},
          "execution_count": 254
        }
      ]
    },
    {
      "cell_type": "markdown",
      "source": [
        "the webcam keyboard microphone is the most bought item"
      ],
      "metadata": {
        "id": "1z2gmqfLy85m"
      }
    },
    {
      "cell_type": "markdown",
      "source": [
        "Replicate the following par blot"
      ],
      "metadata": {
        "id": "H-yKKqp2vg83"
      }
    },
    {
      "cell_type": "code",
      "source": [
        "sns.barplot(x=cus[\"payment_method\"], y=cus[\"age\"], hue=cus[\"gender\"])\n",
        "plt.legend(loc='center right', bbox_to_anchor=(1.25, 0.9))"
      ],
      "metadata": {
        "colab": {
          "base_uri": "https://localhost:8080/",
          "height": 297
        },
        "id": "xB5WgqcJdEOH",
        "outputId": "89045413-1041-4bc3-d550-a60426983e13"
      },
      "execution_count": null,
      "outputs": [
        {
          "output_type": "execute_result",
          "data": {
            "text/plain": [
              "<matplotlib.legend.Legend at 0x7eff3345c220>"
            ]
          },
          "metadata": {},
          "execution_count": 82
        },
        {
          "output_type": "display_data",
          "data": {
            "text/plain": [
              "<Figure size 432x288 with 1 Axes>"
            ],
            "image/png": "[encoded data removed]"
          },
          "metadata": {
            "needs_background": "light"
          }
        }
      ]
    }
  ]
}